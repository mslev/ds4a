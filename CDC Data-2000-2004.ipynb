{
 "cells": [
  {
   "cell_type": "code",
   "execution_count": 125,
   "metadata": {},
   "outputs": [],
   "source": [
    "import numpy as np\n",
    "import pandas as pd\n",
    "import matplotlib.pyplot as plt\n",
    "import seaborn as sns"
   ]
  },
  {
   "cell_type": "markdown",
   "metadata": {},
   "source": [
    "# Clean"
   ]
  },
  {
   "cell_type": "code",
   "execution_count": 126,
   "metadata": {},
   "outputs": [],
   "source": [
    "df1 = pd.read_csv(\"https://github.com/mslev/ds4a/raw/main/data/mort2000_pp.csv\")\n",
    "df2 = pd.read_csv(\"https://github.com/mslev/ds4a/raw/main/data/mort2001_pp.csv\")\n",
    "df3 = pd.read_csv(\"https://github.com/mslev/ds4a/raw/main/data/mort2002_pp.csv\")\n",
    "df4 = pd.read_csv(\"https://github.com/mslev/ds4a/raw/main/data/mort2003_pp.csv\")\n",
    "df5 = pd.read_csv(\"https://github.com/mslev/ds4a/raw/main/data/mort2004_pp.csv\")"
   ]
  },
  {
   "cell_type": "code",
   "execution_count": 127,
   "metadata": {},
   "outputs": [
    {
     "data": {
      "text/html": [
       "<div>\n",
       "<style scoped>\n",
       "    .dataframe tbody tr th:only-of-type {\n",
       "        vertical-align: middle;\n",
       "    }\n",
       "\n",
       "    .dataframe tbody tr th {\n",
       "        vertical-align: top;\n",
       "    }\n",
       "\n",
       "    .dataframe thead th {\n",
       "        text-align: right;\n",
       "    }\n",
       "</style>\n",
       "<table border=\"1\" class=\"dataframe\">\n",
       "  <thead>\n",
       "    <tr style=\"text-align: right;\">\n",
       "      <th></th>\n",
       "      <th>rectype</th>\n",
       "      <th>restatus</th>\n",
       "      <th>stateoc</th>\n",
       "      <th>countyoc</th>\n",
       "      <th>region</th>\n",
       "      <th>divstoc</th>\n",
       "      <th>exstatoc</th>\n",
       "      <th>staters</th>\n",
       "      <th>countyrs</th>\n",
       "      <th>cityrs</th>\n",
       "      <th>...</th>\n",
       "      <th>category</th>\n",
       "      <th>statersr</th>\n",
       "      <th>cmsares</th>\n",
       "      <th>statbthr</th>\n",
       "      <th>educ89</th>\n",
       "      <th>educflag</th>\n",
       "      <th>methdisp</th>\n",
       "      <th>autopsy</th>\n",
       "      <th>brace</th>\n",
       "      <th>racer5</th>\n",
       "    </tr>\n",
       "  </thead>\n",
       "  <tbody>\n",
       "    <tr>\n",
       "      <th>693</th>\n",
       "      <td>1</td>\n",
       "      <td>1</td>\n",
       "      <td>WI</td>\n",
       "      <td>WI999</td>\n",
       "      <td>NaN</td>\n",
       "      <td>NaN</td>\n",
       "      <td>WI</td>\n",
       "      <td>WI</td>\n",
       "      <td>WI999</td>\n",
       "      <td>99999</td>\n",
       "      <td>...</td>\n",
       "      <td>O</td>\n",
       "      <td>WI</td>\n",
       "      <td>0.0</td>\n",
       "      <td>WI</td>\n",
       "      <td>11.0</td>\n",
       "      <td>0.0</td>\n",
       "      <td>U</td>\n",
       "      <td>Y</td>\n",
       "      <td>NaN</td>\n",
       "      <td>1.0</td>\n",
       "    </tr>\n",
       "    <tr>\n",
       "      <th>694</th>\n",
       "      <td>2</td>\n",
       "      <td>2</td>\n",
       "      <td>WI</td>\n",
       "      <td>WI009</td>\n",
       "      <td>NaN</td>\n",
       "      <td>NaN</td>\n",
       "      <td>WI</td>\n",
       "      <td>WI</td>\n",
       "      <td>WI999</td>\n",
       "      <td>99999</td>\n",
       "      <td>...</td>\n",
       "      <td>O</td>\n",
       "      <td>WI</td>\n",
       "      <td>0.0</td>\n",
       "      <td>IL</td>\n",
       "      <td>14.0</td>\n",
       "      <td>0.0</td>\n",
       "      <td>U</td>\n",
       "      <td>N</td>\n",
       "      <td>NaN</td>\n",
       "      <td>1.0</td>\n",
       "    </tr>\n",
       "    <tr>\n",
       "      <th>695</th>\n",
       "      <td>1</td>\n",
       "      <td>1</td>\n",
       "      <td>WI</td>\n",
       "      <td>WI087</td>\n",
       "      <td>NaN</td>\n",
       "      <td>NaN</td>\n",
       "      <td>WI</td>\n",
       "      <td>WI</td>\n",
       "      <td>WI087</td>\n",
       "      <td>99999</td>\n",
       "      <td>...</td>\n",
       "      <td>O</td>\n",
       "      <td>WI</td>\n",
       "      <td>0.0</td>\n",
       "      <td>IL</td>\n",
       "      <td>16.0</td>\n",
       "      <td>0.0</td>\n",
       "      <td>U</td>\n",
       "      <td>Y</td>\n",
       "      <td>NaN</td>\n",
       "      <td>1.0</td>\n",
       "    </tr>\n",
       "    <tr>\n",
       "      <th>696</th>\n",
       "      <td>1</td>\n",
       "      <td>1</td>\n",
       "      <td>WI</td>\n",
       "      <td>WI999</td>\n",
       "      <td>NaN</td>\n",
       "      <td>NaN</td>\n",
       "      <td>WI</td>\n",
       "      <td>WI</td>\n",
       "      <td>WI999</td>\n",
       "      <td>99999</td>\n",
       "      <td>...</td>\n",
       "      <td>O</td>\n",
       "      <td>WI</td>\n",
       "      <td>0.0</td>\n",
       "      <td>WI</td>\n",
       "      <td>12.0</td>\n",
       "      <td>0.0</td>\n",
       "      <td>U</td>\n",
       "      <td>Y</td>\n",
       "      <td>NaN</td>\n",
       "      <td>1.0</td>\n",
       "    </tr>\n",
       "    <tr>\n",
       "      <th>697</th>\n",
       "      <td>1</td>\n",
       "      <td>1</td>\n",
       "      <td>WV</td>\n",
       "      <td>WV999</td>\n",
       "      <td>NaN</td>\n",
       "      <td>NaN</td>\n",
       "      <td>WV</td>\n",
       "      <td>WV</td>\n",
       "      <td>WV999</td>\n",
       "      <td>99999</td>\n",
       "      <td>...</td>\n",
       "      <td>O</td>\n",
       "      <td>WV</td>\n",
       "      <td>0.0</td>\n",
       "      <td>WV</td>\n",
       "      <td>16.0</td>\n",
       "      <td>0.0</td>\n",
       "      <td>U</td>\n",
       "      <td>N</td>\n",
       "      <td>NaN</td>\n",
       "      <td>1.0</td>\n",
       "    </tr>\n",
       "  </tbody>\n",
       "</table>\n",
       "<p>5 rows × 168 columns</p>\n",
       "</div>"
      ],
      "text/plain": [
       "     rectype  restatus stateoc countyoc  region  divstoc exstatoc staters  \\\n",
       "693        1         1      WI    WI999     NaN      NaN       WI      WI   \n",
       "694        2         2      WI    WI009     NaN      NaN       WI      WI   \n",
       "695        1         1      WI    WI087     NaN      NaN       WI      WI   \n",
       "696        1         1      WI    WI999     NaN      NaN       WI      WI   \n",
       "697        1         1      WV    WV999     NaN      NaN       WV      WV   \n",
       "\n",
       "    countyrs cityrs  ... category statersr  cmsares  statbthr educ89 educflag  \\\n",
       "693    WI999  99999  ...        O       WI      0.0        WI   11.0      0.0   \n",
       "694    WI999  99999  ...        O       WI      0.0        IL   14.0      0.0   \n",
       "695    WI087  99999  ...        O       WI      0.0        IL   16.0      0.0   \n",
       "696    WI999  99999  ...        O       WI      0.0        WI   12.0      0.0   \n",
       "697    WV999  99999  ...        O       WV      0.0        WV   16.0      0.0   \n",
       "\n",
       "     methdisp autopsy brace racer5  \n",
       "693         U       Y   NaN    1.0  \n",
       "694         U       N   NaN    1.0  \n",
       "695         U       Y   NaN    1.0  \n",
       "696         U       Y   NaN    1.0  \n",
       "697         U       N   NaN    1.0  \n",
       "\n",
       "[5 rows x 168 columns]"
      ]
     },
     "execution_count": 127,
     "metadata": {},
     "output_type": "execute_result"
    }
   ],
   "source": [
    "df = pd.concat([df1, df2, df3, df4, df5])\n",
    "del df['Unnamed: 0']\n",
    "df.tail()"
   ]
  },
  {
   "cell_type": "code",
   "execution_count": 128,
   "metadata": {},
   "outputs": [
    {
     "name": "stdout",
     "output_type": "stream",
     "text": [
      "['rectype', 'restatus', 'stateoc', 'countyoc', 'region', 'divstoc', 'exstatoc', 'staters', 'countyrs', 'cityrs', 'popsize', 'metro', 'regnres', 'divstres', 'exstares', 'pmsares', 'popsizoc', 'popsizrs', 'popmsa', 'educ', 'educr', 'monthdth', 'sex', 'race', 'racer3', 'racer2', 'age', 'ager52', 'ager27', 'ager12', 'ager22', 'placdth', 'marstat', 'statbth', 'hispanic', 'hspanicr', 'weekday', 'fipscity', 'year', 'fipssto', 'fipsctyo', 'fipsstr', 'fipsctyr', 'fipspmsa', 'fipscmsa', 'injwork', 'raceimp', 'ageflag', 'mandeath', 'activity', 'injury', 'ucod', 'ucr358', 'ucr113', 'ucr130', 'ucr39', 'eanum', 'econdp_1', 'econds_1', 'enicon_1', 'econdp_2', 'econds_2', 'enicon_2', 'econdp_3', 'econds_3', 'enicon_3', 'econdp_4', 'econds_4', 'enicon_4', 'econdp_5', 'econds_5', 'enicon_5', 'econdp_6', 'econds_6', 'enicon_6', 'econdp_7', 'econds_7', 'enicon_7', 'econdp_8', 'econds_8', 'enicon_8', 'econdp_9', 'econds_9', 'enicon_9', 'econdp_10', 'econds_10', 'enicon_10', 'econdp_11', 'econds_11', 'enicon_11', 'econdp_12', 'econds_12', 'enicon_12', 'econdp_13', 'econds_13', 'enicon_13', 'econdp_14', 'econds_14', 'enicon_14', 'econdp_15', 'econds_15', 'enicon_15', 'econdp_16', 'econds_16', 'enicon_16', 'econdp_17', 'econds_17', 'enicon_17', 'econdp_18', 'econds_18', 'enicon_18', 'econdp_19', 'econds_19', 'enicon_19', 'econdp_20', 'econds_20', 'enicon_20', 'ranum', 'record_1', 'rnifla_1', 'record_2', 'rnifla_2', 'record_3', 'rnifla_3', 'record_4', 'rnifla_4', 'record_5', 'rnifla_5', 'record_6', 'rnifla_6', 'record_7', 'rnifla_7', 'record_8', 'rnifla_8', 'record_9', 'rnifla_9', 'record_10', 'rnifla_10', 'record_11', 'rnifla_11', 'record_12', 'rnifla_12', 'record_13', 'rnifla_13', 'record_14', 'rnifla_14', 'record_15', 'rnifla_15', 'record_16', 'rnifla_16', 'record_17', 'rnifla_17', 'record_18', 'rnifla_18', 'record_19', 'rnifla_19', 'record_20', 'rnifla_20', 'category', 'statersr', 'cmsares', 'statbthr', 'educ89', 'educflag', 'methdisp', 'autopsy', 'brace', 'racer5']\n"
     ]
    }
   ],
   "source": [
    "print(df.columns.tolist())"
   ]
  },
  {
   "cell_type": "code",
   "execution_count": 129,
   "metadata": {},
   "outputs": [
    {
     "data": {
      "text/plain": [
       "1    1839\n",
       "2     517\n",
       "3      85\n",
       "4       8\n",
       "Name: restatus, dtype: int64"
      ]
     },
     "execution_count": 129,
     "metadata": {},
     "output_type": "execute_result"
    }
   ],
   "source": [
    "df['restatus'].value_counts()"
   ]
  },
  {
   "cell_type": "code",
   "execution_count": 130,
   "metadata": {},
   "outputs": [
    {
     "data": {
      "text/plain": [
       "Residents                  1839\n",
       "Intrastate Nonresidents     517\n",
       "Interstate Nonresidents      85\n",
       "Foreign Residents             8\n",
       "Name: restatus, dtype: int64"
      ]
     },
     "execution_count": 130,
     "metadata": {},
     "output_type": "execute_result"
    }
   ],
   "source": [
    "df.loc[df['restatus'] == 1, 'restatus'] = \"Residents\"\n",
    "df.loc[df['restatus'] == 2, 'restatus'] = \"Intrastate Nonresidents\"\n",
    "df.loc[df['restatus'] == 3, 'restatus'] = \"Interstate Nonresidents\"\n",
    "df.loc[df['restatus'] == 4, 'restatus'] = \"Foreign Residents\"\n",
    "df['restatus'].value_counts()"
   ]
  },
  {
   "cell_type": "code",
   "execution_count": 131,
   "metadata": {},
   "outputs": [
    {
     "data": {
      "text/plain": [
       "12.0    250\n",
       "14.0     85\n",
       "16.0     69\n",
       "99.0     65\n",
       "13.0     50\n",
       "11.0     41\n",
       "17.0     31\n",
       "10.0     31\n",
       "9.0      22\n",
       "15.0     19\n",
       "6.0      13\n",
       "8.0      12\n",
       "0.0       4\n",
       "7.0       3\n",
       "4.0       3\n",
       "3.0       1\n",
       "Name: educ1989, dtype: int64"
      ]
     },
     "execution_count": 131,
     "metadata": {},
     "output_type": "execute_result"
    }
   ],
   "source": [
    "df['educ1989'] = df['educ89']\n",
    "df['educ1989'].value_counts()"
   ]
  },
  {
   "cell_type": "code",
   "execution_count": 132,
   "metadata": {},
   "outputs": [
    {
     "data": {
      "text/plain": [
       "4 years of high school          250\n",
       "2 years of college               85\n",
       "4 years of college               69\n",
       "Not stated                       65\n",
       "1 year of college                50\n",
       "3 years of high school           41\n",
       "2 years of high school           31\n",
       "5 or more years of college       31\n",
       "1 year of high school            22\n",
       "3 years of college               19\n",
       "6 Years of elementary school     13\n",
       "8 Years of elementary school     12\n",
       "No formal education               4\n",
       "4 Years of elementary school      3\n",
       "7 Years of elementary school      3\n",
       "3 Years of elementary school      1\n",
       "Name: educ1989, dtype: int64"
      ]
     },
     "execution_count": 132,
     "metadata": {},
     "output_type": "execute_result"
    }
   ],
   "source": [
    "df.loc[df['educ1989'] == 0, 'educ1989'] = \"No formal education\"\n",
    "df.loc[df['educ1989'] == 3, 'educ1989'] = \"3 Years of elementary school\"\n",
    "df.loc[df['educ1989'] == 4, 'educ1989'] = \"4 Years of elementary school\"\n",
    "df.loc[df['educ1989'] == 6, 'educ1989'] = \"6 Years of elementary school\"\n",
    "df.loc[df['educ1989'] == 7, 'educ1989'] = \"7 Years of elementary school\"\n",
    "df.loc[df['educ1989'] == 8, 'educ1989'] = \"8 Years of elementary school\"\n",
    "df.loc[df['educ1989'] == 9, 'educ1989'] = \"1 year of high school\"\n",
    "df.loc[df['educ1989'] == 10, 'educ1989'] = \"2 years of high school\"\n",
    "df.loc[df['educ1989'] == 11, 'educ1989'] = \"3 years of high school\"\n",
    "df.loc[df['educ1989'] == 12, 'educ1989'] = \"4 years of high school\"\n",
    "df.loc[df['educ1989'] == 13, 'educ1989'] = \"1 year of college\"\n",
    "df.loc[df['educ1989'] == 14, 'educ1989'] = \"2 years of college\"\n",
    "df.loc[df['educ1989'] == 15, 'educ1989'] = \"3 years of college\"\n",
    "df.loc[df['educ1989'] == 16, 'educ1989'] = \"4 years of college\"\n",
    "df.loc[df['educ1989'] == 17, 'educ1989'] = \"5 or more years of college\"\n",
    "df.loc[df['educ1989'] == 99, 'educ1989'] = \"Not stated\"\n",
    "df['educ1989'].value_counts()"
   ]
  },
  {
   "cell_type": "code",
   "execution_count": 133,
   "metadata": {},
   "outputs": [],
   "source": [
    "df['educ2003'] = df['educr']"
   ]
  },
  {
   "cell_type": "code",
   "execution_count": 134,
   "metadata": {},
   "outputs": [
    {
     "data": {
      "text/plain": [
       "high school graduate or GED completed    453\n",
       "some college credit, but no degree       214\n",
       "9 - 12th grade, no diploma               184\n",
       "Associate degree                         170\n",
       "Bachelor’s degree                        115\n",
       "8th grade or less                         67\n",
       "Name: educ2003, dtype: int64"
      ]
     },
     "execution_count": 134,
     "metadata": {},
     "output_type": "execute_result"
    }
   ],
   "source": [
    "df['educ2003'].value_counts()\n",
    "df.loc[df['educ2003'] == 1, 'educ2003'] = \"8th grade or less\"\n",
    "df.loc[df['educ2003'] == 2, 'educ2003'] = \"9 - 12th grade, no diploma\"\n",
    "df.loc[df['educ2003'] == 3, 'educ2003'] = \"high school graduate or GED completed\"\n",
    "df.loc[df['educ2003'] == 4, 'educ2003'] = \"some college credit, but no degree\"\n",
    "df.loc[df['educ2003'] == 5, 'educ2003'] = \"Associate degree\"\n",
    "df.loc[df['educ2003'] == 6, 'educ2003'] = \"Bachelor’s degree\"\n",
    "df.loc[df['educ2003'] == 7, 'educ2003'] = \"Master’s degree\"\n",
    "df.loc[df['educ2003'] == 8, 'educ2003'] = \"Doctorate or professional degree\"\n",
    "df.loc[df['educ2003'] == 9, 'educ2003'] = \"Unknown\"\n",
    "df['educ2003'].value_counts()"
   ]
  },
  {
   "cell_type": "code",
   "execution_count": 135,
   "metadata": {},
   "outputs": [
    {
     "data": {
      "text/plain": [
       "30 - 34 years    552\n",
       "25 - 29 years    515\n",
       "35 - 39 years    441\n",
       "20 - 24 years    431\n",
       "40 - 44 years    216\n",
       "15 - 19 years    147\n",
       "45 - 49 years     77\n",
       "50 - 54 years     54\n",
       "10 - 14 years      7\n",
       "55 - 59 years      3\n",
       "75 - 79 years      2\n",
       "65 - 69 years      1\n",
       "70 - 74 years      1\n",
       "95 - 99 years      1\n",
       "90 - 94 years      1\n",
       "Name: ager52, dtype: int64"
      ]
     },
     "execution_count": 135,
     "metadata": {},
     "output_type": "execute_result"
    }
   ],
   "source": [
    "df['ager52'].value_counts()\n",
    "df.loc[df['ager52'] == 28, 'ager52'] = \"10 - 14 years\"\n",
    "df.loc[df['ager52'] == 29, 'ager52'] = \"15 - 19 years\"\n",
    "df.loc[df['ager52'] == 30, 'ager52'] = \"20 - 24 years\"\n",
    "df.loc[df['ager52'] == 31, 'ager52'] = \"25 - 29 years\"\n",
    "df.loc[df['ager52'] == 32, 'ager52'] = \"30 - 34 years\"\n",
    "df.loc[df['ager52'] == 33, 'ager52'] = \"35 - 39 years\"\n",
    "df.loc[df['ager52'] == 34, 'ager52'] = \"40 - 44 years\"\n",
    "df.loc[df['ager52'] == 35, 'ager52'] = \"45 - 49 years\"\n",
    "df.loc[df['ager52'] == 36, 'ager52'] = \"50 - 54 years\"\n",
    "df.loc[df['ager52'] == 37, 'ager52'] = \"55 - 59 years\"\n",
    "df.loc[df['ager52'] == 38, 'ager52'] = \"60 - 64 years\"\n",
    "df.loc[df['ager52'] == 39, 'ager52'] = \"65 - 69 years\"\n",
    "df.loc[df['ager52'] == 40, 'ager52'] = \"70 - 74 years\"\n",
    "df.loc[df['ager52'] == 41, 'ager52'] = \"75 - 79 years\"\n",
    "df.loc[df['ager52'] == 43, 'ager52'] = \"85 - 89 years\"\n",
    "df.loc[df['ager52'] == 44, 'ager52'] = \"90 - 94 years\"\n",
    "df.loc[df['ager52'] == 45, 'ager52'] = \"95 - 99 years\"\n",
    "df.loc[df['ager52'] == 52, 'ager52'] = \"Age not stated\"\n",
    "df['ager52'].value_counts()\n"
   ]
  },
  {
   "cell_type": "code",
   "execution_count": 136,
   "metadata": {},
   "outputs": [
    {
     "data": {
      "text/plain": [
       "30 - 34 years    552\n",
       "25 - 29 years    515\n",
       "35 - 39 years    441\n",
       "20 - 24 years    431\n",
       "40 - 44 years    216\n",
       "15 - 19 years    147\n",
       "45 - 49 years     77\n",
       "50 - 54 years     54\n",
       "10 - 14 years      7\n",
       "55 - 59 years      3\n",
       "75 - 79 years      2\n",
       "65 - 69 years      1\n",
       "90 -94 years       1\n",
       "70 - 74 years      1\n",
       "95 - 99 years      1\n",
       "Name: ager27, dtype: int64"
      ]
     },
     "execution_count": 136,
     "metadata": {},
     "output_type": "execute_result"
    }
   ],
   "source": [
    "df['ager27'].value_counts()\n",
    "df.loc[df['ager27'] == 8, 'ager27'] = \"10 - 14 years\"\n",
    "df.loc[df['ager27'] == 9, 'ager27'] = \"15 - 19 years\"\n",
    "df.loc[df['ager27'] == 10, 'ager27'] = \"20 - 24 years\"\n",
    "df.loc[df['ager27'] == 11, 'ager27'] = \"25 - 29 years\"\n",
    "df.loc[df['ager27'] == 12, 'ager27'] = \"30 - 34 years\"\n",
    "df.loc[df['ager27'] == 13, 'ager27'] = \"35 - 39 years\"\n",
    "df.loc[df['ager27'] == 14, 'ager27'] = \"40 - 44 years\"\n",
    "df.loc[df['ager27'] == 15, 'ager27'] = \"45 - 49 years\"\n",
    "df.loc[df['ager27'] == 16, 'ager27'] = \"50 - 54 years\"\n",
    "df.loc[df['ager27'] == 17, 'ager27'] = \"55 - 59 years\"\n",
    "df.loc[df['ager27'] == 18, 'ager27'] = \"60 - 64 years\"\n",
    "df.loc[df['ager27'] == 19, 'ager27'] = \"65 - 69 years\"\n",
    "df.loc[df['ager27'] == 20, 'ager27'] = \"70 - 74 years\"\n",
    "df.loc[df['ager27'] == 21, 'ager27'] = \"75 - 79 years\"\n",
    "df.loc[df['ager27'] == 23, 'ager27'] = \"85 - 89 years\"\n",
    "df.loc[df['ager27'] == 24, 'ager27'] = \"90 -94 years\"\n",
    "df.loc[df['ager27'] == 25, 'ager27'] = \"95 - 99 years\"\n",
    "df.loc[df['ager27'] == 27, 'ager27'] = \"Age not stated\"\n",
    "df['ager27'].value_counts()"
   ]
  },
  {
   "cell_type": "code",
   "execution_count": 137,
   "metadata": {},
   "outputs": [
    {
     "data": {
      "text/plain": [
       "25 - 34 years        1067\n",
       "35 - 44 years         657\n",
       "15 - 24 years         578\n",
       "45 - 54 years         131\n",
       "5 - 14 years            7\n",
       "55 - 64 years           3\n",
       "85 years and over       2\n",
       "65 - 74 years           2\n",
       "75 - 84 years           2\n",
       "Name: ager12, dtype: int64"
      ]
     },
     "execution_count": 137,
     "metadata": {},
     "output_type": "execute_result"
    }
   ],
   "source": [
    "df['ager12'].value_counts()\n",
    "df.loc[df['ager12'] == 3, 'ager12'] = \"5 - 14 years\"\n",
    "df.loc[df['ager12'] == 4, 'ager12'] = \"15 - 24 years\"\n",
    "df.loc[df['ager12'] == 5, 'ager12'] = \"25 - 34 years\"\n",
    "df.loc[df['ager12'] == 6, 'ager12'] = \"35 - 44 years\"\n",
    "df.loc[df['ager12'] == 7, 'ager12'] = \"45 - 54 years\"\n",
    "df.loc[df['ager12'] == 8, 'ager12'] = \"55 - 64 years\"\n",
    "df.loc[df['ager12'] == 9, 'ager12'] = \"65 - 74 years\"\n",
    "df.loc[df['ager12'] == 10, 'ager12'] = \"75 - 84 years\"\n",
    "df.loc[df['ager12'] == 11, 'ager12'] = \"85 years and over\"\n",
    "df.loc[df['ager12'] == 12, 'ager12'] = \"Age not stated\"\n",
    "df['ager12'].value_counts()"
   ]
  },
  {
   "cell_type": "code",
   "execution_count": 138,
   "metadata": {},
   "outputs": [
    {
     "data": {
      "text/plain": [
       "Hospital, clinic or Medical Center - Inpatient                                   1546\n",
       "Hospital, Clinic or Medical Center - Outpatient or admitted to Emergency Room     502\n",
       "Decedent’s home                                                                   166\n",
       "Nursing home/long term care                                                        99\n",
       "Hospital, Clinic or Medical Center- Dead on Arrival                                63\n",
       "Other                                                                              57\n",
       "Hospice facility                                                                   11\n",
       "Place of death unknown                                                              5\n",
       "Name: placdth, dtype: int64"
      ]
     },
     "execution_count": 138,
     "metadata": {},
     "output_type": "execute_result"
    }
   ],
   "source": [
    "df['placdth'].value_counts()\n",
    "df.loc[df['placdth'] == 1, 'placdth'] = \"Hospital, clinic or Medical Center - Inpatient\"\n",
    "df.loc[df['placdth'] == 2, 'placdth'] = \"Hospital, Clinic or Medical Center - Outpatient or admitted to Emergency Room\"\n",
    "df.loc[df['placdth'] == 3, 'placdth'] = \"Hospital, Clinic or Medical Center- Dead on Arrival\"\n",
    "df.loc[df['placdth'] == 4, 'placdth'] = \"Decedent’s home\"\n",
    "df.loc[df['placdth'] == 5, 'placdth'] = \"Hospice facility\"\n",
    "df.loc[df['placdth'] == 6, 'placdth'] = \"Nursing home/long term care\"\n",
    "df.loc[df['placdth'] == 7, 'placdth'] = \"Other\"\n",
    "df.loc[df['placdth'] == 9, 'placdth'] = \"Place of death unknown\"\n",
    "df['placdth'].value_counts()\n"
   ]
  },
  {
   "cell_type": "code",
   "execution_count": 139,
   "metadata": {},
   "outputs": [
    {
     "data": {
      "text/plain": [
       "2    642\n",
       "M    618\n",
       "S    495\n",
       "1    462\n",
       "D    120\n",
       "4     82\n",
       "3     12\n",
       "W     11\n",
       "9      5\n",
       "U      2\n",
       "Name: marstat, dtype: int64"
      ]
     },
     "execution_count": 139,
     "metadata": {},
     "output_type": "execute_result"
    }
   ],
   "source": [
    "df['marstat'].value_counts()"
   ]
  },
  {
   "cell_type": "code",
   "execution_count": 140,
   "metadata": {},
   "outputs": [
    {
     "data": {
      "text/plain": [
       "Married                   1260\n",
       "Never married, single      957\n",
       "Divorced                   202\n",
       "Widowed                     23\n",
       "Marital Status unknown       7\n",
       "Name: marstat, dtype: int64"
      ]
     },
     "execution_count": 140,
     "metadata": {},
     "output_type": "execute_result"
    }
   ],
   "source": [
    "df['marstat'].value_counts()\n",
    "df.loc[df['marstat'] == \"M\", 'marstat'] = \"Married\"\n",
    "df.loc[df['marstat'] == \"S\", 'marstat'] = \"Never married, single\"\n",
    "df.loc[df['marstat'] == \"D\", 'marstat'] = \"Divorced\"\n",
    "df.loc[df['marstat'] == \"W\", 'marstat'] = \"Widowed\"\n",
    "df.loc[df['marstat'] == \"U\", 'marstat'] = \"Marital Status unknown\"\n",
    "df.loc[df['marstat'] == 2, 'marstat'] = \"Married\"\n",
    "df.loc[df['marstat'] == 1, 'marstat'] = \"Never married, single\"\n",
    "df.loc[df['marstat'] == 4, 'marstat'] = \"Divorced\"\n",
    "df.loc[df['marstat'] == 3, 'marstat'] = \"Widowed\"\n",
    "df.loc[df['marstat'] == 9, 'marstat'] = \"Marital Status unknown\"\n",
    "df['marstat'].value_counts()"
   ]
  },
  {
   "cell_type": "code",
   "execution_count": 141,
   "metadata": {},
   "outputs": [
    {
     "data": {
      "text/plain": [
       "Natural                  1580\n",
       "Accident                   80\n",
       "Pending investigation      37\n",
       "Could not determine        26\n",
       "Homicide                    4\n",
       "Suicide                     2\n",
       "Name: mandeath, dtype: int64"
      ]
     },
     "execution_count": 141,
     "metadata": {},
     "output_type": "execute_result"
    }
   ],
   "source": [
    "df['mandeath'].value_counts()\n",
    "df.loc[df['mandeath'] == 1, 'mandeath'] = \"Accident\"\n",
    "df.loc[df['mandeath'] == 2, 'mandeath'] = \"Suicide\"\n",
    "df.loc[df['mandeath'] == 3, 'mandeath'] = \"Homicide\"\n",
    "df.loc[df['mandeath'] == 4, 'mandeath'] = \"Pending investigation\"\n",
    "df.loc[df['mandeath'] == 5, 'mandeath'] = \"Could not determine\"\n",
    "df.loc[df['mandeath'] == 7, 'mandeath'] = \"Natural\"\n",
    "df['mandeath'].value_counts()"
   ]
  },
  {
   "cell_type": "code",
   "execution_count": 142,
   "metadata": {},
   "outputs": [
    {
     "data": {
      "text/plain": [
       "O96     211\n",
       "O881    175\n",
       "O268    164\n",
       "O998    159\n",
       "O903    150\n",
       "       ... \n",
       "O709      1\n",
       "O365      1\n",
       "O263      1\n",
       "O419      1\n",
       "O871      1\n",
       "Name: ucod, Length: 150, dtype: int64"
      ]
     },
     "execution_count": 142,
     "metadata": {},
     "output_type": "execute_result"
    }
   ],
   "source": [
    "df['ucod'].value_counts()"
   ]
  },
  {
   "cell_type": "code",
   "execution_count": 143,
   "metadata": {},
   "outputs": [],
   "source": [
    "icd_codes = pd.read_csv(\"additional_codes.csv\", sep=',', names=['ucod', 'description'])\n",
    "df = pd.merge(df, icd_codes,how='left', on='ucod')"
   ]
  },
  {
   "cell_type": "code",
   "execution_count": 144,
   "metadata": {},
   "outputs": [
    {
     "data": {
      "text/html": [
       "<div>\n",
       "<style scoped>\n",
       "    .dataframe tbody tr th:only-of-type {\n",
       "        vertical-align: middle;\n",
       "    }\n",
       "\n",
       "    .dataframe tbody tr th {\n",
       "        vertical-align: top;\n",
       "    }\n",
       "\n",
       "    .dataframe thead th {\n",
       "        text-align: right;\n",
       "    }\n",
       "</style>\n",
       "<table border=\"1\" class=\"dataframe\">\n",
       "  <thead>\n",
       "    <tr style=\"text-align: right;\">\n",
       "      <th></th>\n",
       "      <th>rectype</th>\n",
       "      <th>restatus</th>\n",
       "      <th>stateoc</th>\n",
       "      <th>countyoc</th>\n",
       "      <th>region</th>\n",
       "      <th>divstoc</th>\n",
       "      <th>exstatoc</th>\n",
       "      <th>staters</th>\n",
       "      <th>countyrs</th>\n",
       "      <th>cityrs</th>\n",
       "      <th>...</th>\n",
       "      <th>statbthr</th>\n",
       "      <th>educ89</th>\n",
       "      <th>educflag</th>\n",
       "      <th>methdisp</th>\n",
       "      <th>autopsy</th>\n",
       "      <th>brace</th>\n",
       "      <th>racer5</th>\n",
       "      <th>educ1989</th>\n",
       "      <th>educ2003</th>\n",
       "      <th>description</th>\n",
       "    </tr>\n",
       "  </thead>\n",
       "  <tbody>\n",
       "  </tbody>\n",
       "</table>\n",
       "<p>0 rows × 171 columns</p>\n",
       "</div>"
      ],
      "text/plain": [
       "Empty DataFrame\n",
       "Columns: [rectype, restatus, stateoc, countyoc, region, divstoc, exstatoc, staters, countyrs, cityrs, popsize, metro, regnres, divstres, exstares, pmsares, popsizoc, popsizrs, popmsa, educ, educr, monthdth, sex, race, racer3, racer2, age, ager52, ager27, ager12, ager22, placdth, marstat, statbth, hispanic, hspanicr, weekday, fipscity, year, fipssto, fipsctyo, fipsstr, fipsctyr, fipspmsa, fipscmsa, injwork, raceimp, ageflag, mandeath, activity, injury, ucod, ucr358, ucr113, ucr130, ucr39, eanum, econdp_1, econds_1, enicon_1, econdp_2, econds_2, enicon_2, econdp_3, econds_3, enicon_3, econdp_4, econds_4, enicon_4, econdp_5, econds_5, enicon_5, econdp_6, econds_6, enicon_6, econdp_7, econds_7, enicon_7, econdp_8, econds_8, enicon_8, econdp_9, econds_9, enicon_9, econdp_10, econds_10, enicon_10, econdp_11, econds_11, enicon_11, econdp_12, econds_12, enicon_12, econdp_13, econds_13, enicon_13, econdp_14, econds_14, enicon_14, econdp_15, ...]\n",
       "Index: []\n",
       "\n",
       "[0 rows x 171 columns]"
      ]
     },
     "execution_count": 144,
     "metadata": {},
     "output_type": "execute_result"
    }
   ],
   "source": [
    "df.loc[df['description'].isna()]"
   ]
  },
  {
   "cell_type": "code",
   "execution_count": 145,
   "metadata": {},
   "outputs": [
    {
     "data": {
      "text/plain": [
       "Other complications of birth; puerperium affecting management of mother                         1136\n",
       "Other complications of pregnancy                                                                 596\n",
       "Hypertension complicating pregnancy; childbirth and the puerperium                               348\n",
       "Hemorrhage during pregnancy; abruptio placenta; placenta previa                                  114\n",
       "Ectopic pregnancy                                                                                 98\n",
       "Induced abortion                                                                                  40\n",
       "Diabetes or abnormal glucose tolerance complicating pregnancy; childbirth; or the puerperium      26\n",
       "Spontaneous abortion                                                                              24\n",
       "Complications of surgical procedures or medical care                                              23\n",
       "Fetal distress and abnormal forces of labor                                                       16\n",
       "Polyhydramnios and other problems of amniotic cavity                                              14\n",
       "Normal pregnancy and/or delivery                                                                   4\n",
       "OB-related trauma to perineum and vulva                                                            3\n",
       "Malposition; malpresentation                                                                       2\n",
       "Fetopelvic disproportion; obstruction                                                              2\n",
       "Previous C-section                                                                                 2\n",
       "Umbilical cord complication                                                                        1\n",
       "Name: description, dtype: int64"
      ]
     },
     "execution_count": 145,
     "metadata": {},
     "output_type": "execute_result"
    }
   ],
   "source": [
    "df['description'].value_counts()"
   ]
  },
  {
   "cell_type": "code",
   "execution_count": 146,
   "metadata": {},
   "outputs": [
    {
     "data": {
      "text/plain": [
       "All other direct obstetric causes                                   604\n",
       "Indirect obstetric deaths                                           380\n",
       "Eclampsia and pre-eclampsia                                         322\n",
       "Obstetric embolism                                                  272\n",
       "Other deaths related to pregnancy, childbirth and the puerperium    254\n",
       "Other complications predominately related to the puerperium         197\n",
       "Hemorrhage of pregnancy and childbirth and placenta previa          187\n",
       "Ectopic pregnancy                                                    98\n",
       "Obstetric death of unspecified cause                                 63\n",
       "Other and unspecified pregnancy with abortive outcome                38\n",
       "Spontaneous abortion                                                 24\n",
       "Medical abortion                                                     10\n",
       "Name: ucr358, dtype: int64"
      ]
     },
     "execution_count": 146,
     "metadata": {},
     "output_type": "execute_result"
    }
   ],
   "source": [
    "#Getting recode info from https://www.cdc.gov/nchs/data/datalinkage/underlying_and_multiple_cause_of_death_codes.pdf\n",
    "df['ucr358'].value_counts()\n",
    "df.loc[df['ucr358'] == 341, 'ucr358'] = \"Ectopic pregnancy\"\n",
    "df.loc[df['ucr358'] == 342, 'ucr358'] = \"Spontaneous abortion\"\n",
    "df.loc[df['ucr358'] == 343, 'ucr358'] = \"Medical abortion\"\n",
    "df.loc[df['ucr358'] == 344, 'ucr358'] = \"Other abortion\"\n",
    "df.loc[df['ucr358'] == 345, 'ucr358'] = \"Other and unspecified pregnancy with abortive outcome\"\n",
    "df.loc[df['ucr358'] == 347, 'ucr358'] = \"Eclampsia and pre-eclampsia\"\n",
    "df.loc[df['ucr358'] == 348, 'ucr358'] = \"Hemorrhage of pregnancy and childbirth and placenta previa\"\n",
    "df.loc[df['ucr358'] == 350, 'ucr358'] = \"Obstetric embolism\"\n",
    "df.loc[df['ucr358'] == 351, 'ucr358'] = \"Other complications predominately related to the puerperium\"\n",
    "df.loc[df['ucr358'] == 352, 'ucr358'] = \"All other direct obstetric causes\"\n",
    "df.loc[df['ucr358'] == 353, 'ucr358'] = \"Obstetric death of unspecified cause\"\n",
    "df.loc[df['ucr358'] == 354, 'ucr358'] = \"Other deaths related to pregnancy, childbirth and the puerperium\"\n",
    "df.loc[df['ucr358'] == 355, 'ucr358'] = \"Indirect obstetric deaths\"\n",
    "df['ucr358'].value_counts()"
   ]
  },
  {
   "cell_type": "code",
   "execution_count": 147,
   "metadata": {},
   "outputs": [
    {
     "data": {
      "text/plain": [
       "1    1340\n",
       "2     693\n",
       "3     271\n",
       "4      97\n",
       "5      33\n",
       "6       9\n",
       "7       5\n",
       "8       1\n",
       "Name: ranum, dtype: int64"
      ]
     },
     "execution_count": 147,
     "metadata": {},
     "output_type": "execute_result"
    }
   ],
   "source": [
    "#\"The record axis codes represent a further processing of the entity axis codes to be consistent with the underlying cause data and more amenable to statistical tabulation and analysis.\"\n",
    "#From https://www.ncbi.nlm.nih.gov/pmc/articles/PMC548504/\n",
    "df['ranum'].value_counts() #Keep up to 3 record axis conditions"
   ]
  },
  {
   "cell_type": "code",
   "execution_count": 148,
   "metadata": {},
   "outputs": [
    {
     "data": {
      "text/html": [
       "<div>\n",
       "<style scoped>\n",
       "    .dataframe tbody tr th:only-of-type {\n",
       "        vertical-align: middle;\n",
       "    }\n",
       "\n",
       "    .dataframe tbody tr th {\n",
       "        vertical-align: top;\n",
       "    }\n",
       "\n",
       "    .dataframe thead th {\n",
       "        text-align: right;\n",
       "    }\n",
       "</style>\n",
       "<table border=\"1\" class=\"dataframe\">\n",
       "  <thead>\n",
       "    <tr style=\"text-align: right;\">\n",
       "      <th></th>\n",
       "      <th>ucod</th>\n",
       "      <th>record_1</th>\n",
       "      <th>record_2</th>\n",
       "    </tr>\n",
       "  </thead>\n",
       "  <tbody>\n",
       "    <tr>\n",
       "      <th>6</th>\n",
       "      <td>O903</td>\n",
       "      <td>J189</td>\n",
       "      <td>O903</td>\n",
       "    </tr>\n",
       "    <tr>\n",
       "      <th>7</th>\n",
       "      <td>O883</td>\n",
       "      <td>O342</td>\n",
       "      <td>O883</td>\n",
       "    </tr>\n",
       "    <tr>\n",
       "      <th>8</th>\n",
       "      <td>O759</td>\n",
       "      <td>O082</td>\n",
       "      <td>O96</td>\n",
       "    </tr>\n",
       "    <tr>\n",
       "      <th>16</th>\n",
       "      <td>O751</td>\n",
       "      <td>O721</td>\n",
       "      <td>O722</td>\n",
       "    </tr>\n",
       "    <tr>\n",
       "      <th>21</th>\n",
       "      <td>O881</td>\n",
       "      <td>O001</td>\n",
       "      <td>O881</td>\n",
       "    </tr>\n",
       "    <tr>\n",
       "      <th>...</th>\n",
       "      <td>...</td>\n",
       "      <td>...</td>\n",
       "      <td>...</td>\n",
       "    </tr>\n",
       "    <tr>\n",
       "      <th>2409</th>\n",
       "      <td>O881</td>\n",
       "      <td>O268</td>\n",
       "      <td>O364</td>\n",
       "    </tr>\n",
       "    <tr>\n",
       "      <th>2418</th>\n",
       "      <td>O039</td>\n",
       "      <td>N838</td>\n",
       "      <td>O009</td>\n",
       "    </tr>\n",
       "    <tr>\n",
       "      <th>2419</th>\n",
       "      <td>O459</td>\n",
       "      <td>O100</td>\n",
       "      <td>O459</td>\n",
       "    </tr>\n",
       "    <tr>\n",
       "      <th>2425</th>\n",
       "      <td>O85</td>\n",
       "      <td>O723</td>\n",
       "      <td>O85</td>\n",
       "    </tr>\n",
       "    <tr>\n",
       "      <th>2446</th>\n",
       "      <td>O96</td>\n",
       "      <td>G35</td>\n",
       "      <td>O96</td>\n",
       "    </tr>\n",
       "  </tbody>\n",
       "</table>\n",
       "<p>572 rows × 3 columns</p>\n",
       "</div>"
      ],
      "text/plain": [
       "      ucod record_1 record_2\n",
       "6     O903     J189     O903\n",
       "7     O883     O342     O883\n",
       "8     O759     O082      O96\n",
       "16    O751     O721     O722\n",
       "21    O881     O001     O881\n",
       "...    ...      ...      ...\n",
       "2409  O881     O268     O364\n",
       "2418  O039     N838     O009\n",
       "2419  O459     O100     O459\n",
       "2425   O85     O723      O85\n",
       "2446   O96      G35      O96\n",
       "\n",
       "[572 rows x 3 columns]"
      ]
     },
     "execution_count": 148,
     "metadata": {},
     "output_type": "execute_result"
    }
   ],
   "source": [
    "check = (df['ucod'] == df['record_1'])\n",
    "check.value_counts() #the first record (record_1) is GENERALLY (~77% of cases) equal to the official cause of death. which means if I want other undelying conditions, I need to keep records 2, 3 and 4\n",
    "check = df[df['ucod'] != df['record_1']]\n",
    "check[['ucod', 'record_1', 'record_2']] "
   ]
  },
  {
   "cell_type": "code",
   "execution_count": 149,
   "metadata": {},
   "outputs": [],
   "source": [
    "icd_codes.rename(columns={\"ucod\": \"record_2\", \"description\": \"record_2_desc\"}, inplace =True)\n",
    "df = pd.merge(df, icd_codes, how='left', on='record_2') "
   ]
  },
  {
   "cell_type": "code",
   "execution_count": 150,
   "metadata": {},
   "outputs": [],
   "source": [
    "icd_codes.rename(columns={\"record_2\": \"record_3\", \"record_2_desc\": \"record_3_desc\"}, inplace =True)\n",
    "df = pd.merge(df, icd_codes, how='left', on='record_3') "
   ]
  },
  {
   "cell_type": "code",
   "execution_count": 151,
   "metadata": {},
   "outputs": [],
   "source": [
    "icd_codes.rename(columns={\"record_3\": \"record_4\", \"record_3_desc\": \"record_4_desc\"}, inplace =True)\n",
    "df = pd.merge(df, icd_codes, how='left', on='record_4') "
   ]
  },
  {
   "cell_type": "code",
   "execution_count": 152,
   "metadata": {},
   "outputs": [
    {
     "data": {
      "image/png": "[encoded data removed]",
      "text/plain": [
       "<Figure size 432x288 with 1 Axes>"
      ]
     },
     "metadata": {
      "needs_background": "light"
     },
     "output_type": "display_data"
    }
   ],
   "source": [
    "ax = df['race'].plot.hist(bins=3, alpha=0.5)"
   ]
  },
  {
   "cell_type": "code",
   "execution_count": 153,
   "metadata": {},
   "outputs": [
    {
     "data": {
      "text/plain": [
       "White                              1415\n",
       "Black                               901\n",
       "Races other than White or Black     133\n",
       "Name: racer3, dtype: int64"
      ]
     },
     "execution_count": 153,
     "metadata": {},
     "output_type": "execute_result"
    }
   ],
   "source": [
    "df['racer3'].value_counts()\n",
    "df.loc[df['racer3'] == 1, 'racer3'] = \"White\"\n",
    "df.loc[df['racer3'] == 2, 'racer3'] = \"Races other than White or Black\"\n",
    "df.loc[df['racer3'] == 3, 'racer3'] = \"Black\"\n",
    "df['racer3'].value_counts()"
   ]
  },
  {
   "cell_type": "code",
   "execution_count": 154,
   "metadata": {},
   "outputs": [
    {
     "data": {
      "text/plain": [
       "White                        412\n",
       "Black                        251\n",
       "Asian or Pacific Islander     29\n",
       "American Indian                6\n",
       "Name: racer5, dtype: int64"
      ]
     },
     "execution_count": 154,
     "metadata": {},
     "output_type": "execute_result"
    }
   ],
   "source": [
    "df['racer5'].value_counts()\n",
    "df.loc[df['racer5'] == 1, 'racer5'] = \"White\"\n",
    "df.loc[df['racer5'] == 2, 'racer5'] = \"Black\"\n",
    "df.loc[df['racer5'] == 3, 'racer5'] = \"American Indian\"\n",
    "df.loc[df['racer5'] == 4, 'racer5'] = \"Asian or Pacific Islander\"\n",
    "df['racer5'].value_counts()"
   ]
  },
  {
   "cell_type": "code",
   "execution_count": 155,
   "metadata": {},
   "outputs": [
    {
     "data": {
      "text/plain": [
       "Non - Hispanic white          967\n",
       "Non - Hispanic black          881\n",
       "Hispanic                      460\n",
       "Non - Hispanic other races    130\n",
       "Hispanic origin unknown        11\n",
       "Name: hspanicr, dtype: int64"
      ]
     },
     "execution_count": 155,
     "metadata": {},
     "output_type": "execute_result"
    }
   ],
   "source": [
    "df['hspanicr'].value_counts()\n",
    "df.loc[df['hspanicr'] == 9, 'hspanicr'] = \"Hispanic origin unknown\"\n",
    "df.loc[df['hspanicr'] == 8, 'hspanicr'] = \"Non - Hispanic other races\"\n",
    "df.loc[df['hspanicr'] == 7, 'hspanicr'] = \"Non - Hispanic black\"\n",
    "df.loc[df['hspanicr'] == 6, 'hspanicr'] = \"Non - Hispanic white\"\n",
    "df.loc[df['hspanicr'] == 5, 'hspanicr'] = \"Hispanic\"\n",
    "df.loc[df['hspanicr'] == 4, 'hspanicr'] = \"Hispanic\"\n",
    "df.loc[df['hspanicr'] == 3, 'hspanicr'] = \"Hispanic\"\n",
    "df.loc[df['hspanicr'] == 2, 'hspanicr'] = \"Hispanic\"\n",
    "df.loc[df['hspanicr'] == 1, 'hspanicr'] = \"Hispanic\"\n",
    "df['hspanicr'].value_counts()\n"
   ]
  },
  {
   "cell_type": "code",
   "execution_count": 156,
   "metadata": {},
   "outputs": [
    {
     "data": {
      "text/plain": [
       "CA    247\n",
       "5     161\n",
       "NY    135\n",
       "TX    110\n",
       "44    107\n",
       "     ... \n",
       "20      1\n",
       "HI      1\n",
       "46      1\n",
       "AK      1\n",
       "51      1\n",
       "Name: stateoc, Length: 100, dtype: int64"
      ]
     },
     "execution_count": 156,
     "metadata": {},
     "output_type": "execute_result"
    }
   ],
   "source": [
    "df['stateoc'].value_counts()"
   ]
  },
  {
   "cell_type": "code",
   "execution_count": 157,
   "metadata": {},
   "outputs": [
    {
     "data": {
      "text/plain": [
       "CA    408\n",
       "NY    226\n",
       "TX    217\n",
       "GA    143\n",
       "FL    134\n",
       "MI    103\n",
       "IL     80\n",
       "NJ     79\n",
       "MD     73\n",
       "NC     66\n",
       "PA     61\n",
       "OH     60\n",
       "LA     60\n",
       "TN     49\n",
       "MS     48\n",
       "MO     43\n",
       "CO     39\n",
       "WA     38\n",
       "VA     36\n",
       "OK     36\n",
       "WI     35\n",
       "AZ     32\n",
       "KY     27\n",
       "SC     25\n",
       "NM     25\n",
       "AR     24\n",
       "DC     23\n",
       "AL     23\n",
       "UT     21\n",
       "MT     20\n",
       "OR     16\n",
       "ID     15\n",
       "IN     15\n",
       "NV     15\n",
       "IA     15\n",
       "NE     14\n",
       "MN     12\n",
       "WV     11\n",
       "MA     11\n",
       "CT     11\n",
       "NH     10\n",
       "KS     10\n",
       "DE      9\n",
       "SD      6\n",
       "RI      6\n",
       "ND      5\n",
       "WY      4\n",
       "HI      4\n",
       "AK      3\n",
       "VT      2\n",
       "ME      1\n",
       "Name: stateoc, dtype: int64"
      ]
     },
     "execution_count": 157,
     "metadata": {},
     "output_type": "execute_result"
    }
   ],
   "source": [
    "df.loc[df['stateoc'] == 1 ,'stateoc'] = 'AL'\n",
    "df.loc[df['stateoc'] == 2 ,'stateoc'] = 'AK'\n",
    "df.loc[df['stateoc'] == 3 ,'stateoc'] = 'AZ'\n",
    "df.loc[df['stateoc'] == 4 ,'stateoc'] = 'AR'\n",
    "df.loc[df['stateoc'] == 5 ,'stateoc'] = 'CA'\n",
    "df.loc[df['stateoc'] == 6 ,'stateoc'] = 'CO'\n",
    "df.loc[df['stateoc'] == 7 ,'stateoc'] = 'CT'\n",
    "df.loc[df['stateoc'] == 8 ,'stateoc'] = 'DE'\n",
    "df.loc[df['stateoc'] == 9 ,'stateoc'] = 'DC'\n",
    "df.loc[df['stateoc'] == 10 ,'stateoc'] = 'FL'\n",
    "df.loc[df['stateoc'] == 11 ,'stateoc'] = 'GA'\n",
    "df.loc[df['stateoc'] == 12 ,'stateoc'] = 'HI'\n",
    "df.loc[df['stateoc'] == 13 ,'stateoc'] = 'ID'\n",
    "df.loc[df['stateoc'] == 14 ,'stateoc'] = 'IL'\n",
    "df.loc[df['stateoc'] == 15 ,'stateoc'] = 'IN'\n",
    "df.loc[df['stateoc'] == 16 ,'stateoc'] = 'IA'\n",
    "df.loc[df['stateoc'] == 17 ,'stateoc'] = 'KS'\n",
    "df.loc[df['stateoc'] == 18 ,'stateoc'] = 'KY'\n",
    "df.loc[df['stateoc'] == 19 ,'stateoc'] = 'LA'\n",
    "df.loc[df['stateoc'] == 20 ,'stateoc'] = 'ME'\n",
    "df.loc[df['stateoc'] == 21 ,'stateoc'] = 'MD'\n",
    "df.loc[df['stateoc'] == 22 ,'stateoc'] = 'MA'\n",
    "df.loc[df['stateoc'] == 23 ,'stateoc'] = 'MI'\n",
    "df.loc[df['stateoc'] == 24 ,'stateoc'] = 'MN'\n",
    "df.loc[df['stateoc'] == 25 ,'stateoc'] = 'MS'\n",
    "df.loc[df['stateoc'] == 26 ,'stateoc'] = 'MO'\n",
    "df.loc[df['stateoc'] == 27 ,'stateoc'] = 'MT'\n",
    "df.loc[df['stateoc'] == 28 ,'stateoc'] = 'NE'\n",
    "df.loc[df['stateoc'] == 29 ,'stateoc'] = 'NV'\n",
    "df.loc[df['stateoc'] == 30 ,'stateoc'] = 'NH'\n",
    "df.loc[df['stateoc'] == 31 ,'stateoc'] = 'NJ'\n",
    "df.loc[df['stateoc'] == 32 ,'stateoc'] = 'NM'\n",
    "df.loc[df['stateoc'] == 33 ,'stateoc'] = 'NY'\n",
    "df.loc[df['stateoc'] == 34 ,'stateoc'] = 'NC'\n",
    "df.loc[df['stateoc'] == 35 ,'stateoc'] = 'ND'\n",
    "df.loc[df['stateoc'] == 36 ,'stateoc'] = 'OH'\n",
    "df.loc[df['stateoc'] == 37 ,'stateoc'] = 'OK'\n",
    "df.loc[df['stateoc'] == 38 ,'stateoc'] = 'OR'\n",
    "df.loc[df['stateoc'] == 39 ,'stateoc'] = 'PA'\n",
    "df.loc[df['stateoc'] == 40 ,'stateoc'] = 'RI'\n",
    "df.loc[df['stateoc'] == 41 ,'stateoc'] = 'SC'\n",
    "df.loc[df['stateoc'] == 42 ,'stateoc'] = 'SD'\n",
    "df.loc[df['stateoc'] == 43 ,'stateoc'] = 'TN'\n",
    "df.loc[df['stateoc'] == 44 ,'stateoc'] = 'TX'\n",
    "df.loc[df['stateoc'] == 45 ,'stateoc'] = 'UT'\n",
    "df.loc[df['stateoc'] == 46 ,'stateoc'] = 'VT'\n",
    "df.loc[df['stateoc'] == 47 ,'stateoc'] = 'VA'\n",
    "df.loc[df['stateoc'] == 48 ,'stateoc'] = 'WA'\n",
    "df.loc[df['stateoc'] == 49 ,'stateoc'] = 'WV'\n",
    "df.loc[df['stateoc'] == 50 ,'stateoc'] = 'WI'\n",
    "df.loc[df['stateoc'] == 51 ,'stateoc'] = 'WY'\n",
    "df.loc[df['stateoc'] == 52 ,'stateoc'] = 'PR'\n",
    "df.loc[df['stateoc'] == 53 ,'stateoc'] = 'VI'\n",
    "df.loc[df['stateoc'] == 54 ,'stateoc'] = 'GU'\n",
    "df.loc[df['stateoc'] == 61 ,'stateoc'] = 'AS'\n",
    "df.loc[df['stateoc'] == 62 ,'stateoc'] = 'MP'\n",
    "df['stateoc'].value_counts()"
   ]
  },
  {
   "cell_type": "code",
   "execution_count": 167,
   "metadata": {},
   "outputs": [
    {
     "name": "stdout",
     "output_type": "stream",
     "text": [
      "Total Regions:  51\n",
      "Total Rows:  2449\n",
      "Six states/regions out of 51 make up  50.27 % of all deaths\n",
      "So  12.0 % of regions make up 50% of deaths\n"
     ]
    }
   ],
   "source": [
    "print(\"Total Regions: \", len(df['stateoc'].value_counts()))\n",
    "print(\"Total Rows: \", len(df['stateoc']))\n",
    "df['stateoc'].value_counts().head(6) # 1,231\n",
    "print(\"Six states/regions out of 51 make up \", round(1231/2449*100, 2) ,\"% of all deaths\")\n",
    "print(\"So \", round(6/51*100, 0) ,\"% of regions make up 50% of deaths\")"
   ]
  },
  {
   "cell_type": "code",
   "execution_count": 168,
   "metadata": {},
   "outputs": [
    {
     "data": {
      "text/html": [
       "<div>\n",
       "<style scoped>\n",
       "    .dataframe tbody tr th:only-of-type {\n",
       "        vertical-align: middle;\n",
       "    }\n",
       "\n",
       "    .dataframe tbody tr th {\n",
       "        vertical-align: top;\n",
       "    }\n",
       "\n",
       "    .dataframe thead th {\n",
       "        text-align: right;\n",
       "    }\n",
       "</style>\n",
       "<table border=\"1\" class=\"dataframe\">\n",
       "  <thead>\n",
       "    <tr style=\"text-align: right;\">\n",
       "      <th></th>\n",
       "      <th>restatus</th>\n",
       "      <th>stateoc</th>\n",
       "      <th>educ1989</th>\n",
       "      <th>educ2003</th>\n",
       "      <th>educflag</th>\n",
       "      <th>monthdth</th>\n",
       "      <th>sex</th>\n",
       "      <th>ager52</th>\n",
       "      <th>ager27</th>\n",
       "      <th>ager12</th>\n",
       "      <th>...</th>\n",
       "      <th>record_2</th>\n",
       "      <th>record_3</th>\n",
       "      <th>record_4</th>\n",
       "      <th>racer3</th>\n",
       "      <th>racer5</th>\n",
       "      <th>hspanicr</th>\n",
       "      <th>description</th>\n",
       "      <th>record_2_desc</th>\n",
       "      <th>record_3_desc</th>\n",
       "      <th>record_4_desc</th>\n",
       "    </tr>\n",
       "  </thead>\n",
       "  <tbody>\n",
       "    <tr>\n",
       "      <th>0</th>\n",
       "      <td>Residents</td>\n",
       "      <td>AL</td>\n",
       "      <td>NaN</td>\n",
       "      <td>high school graduate or GED completed</td>\n",
       "      <td>NaN</td>\n",
       "      <td>4</td>\n",
       "      <td>2</td>\n",
       "      <td>25 - 29 years</td>\n",
       "      <td>25 - 29 years</td>\n",
       "      <td>25 - 34 years</td>\n",
       "      <td>...</td>\n",
       "      <td>O268</td>\n",
       "      <td>NaN</td>\n",
       "      <td>NaN</td>\n",
       "      <td>Black</td>\n",
       "      <td>NaN</td>\n",
       "      <td>Non - Hispanic black</td>\n",
       "      <td>Other complications of pregnancy</td>\n",
       "      <td>Other complications of pregnancy</td>\n",
       "      <td>NaN</td>\n",
       "      <td>NaN</td>\n",
       "    </tr>\n",
       "    <tr>\n",
       "      <th>1</th>\n",
       "      <td>Residents</td>\n",
       "      <td>AL</td>\n",
       "      <td>NaN</td>\n",
       "      <td>9 - 12th grade, no diploma</td>\n",
       "      <td>NaN</td>\n",
       "      <td>5</td>\n",
       "      <td>2</td>\n",
       "      <td>20 - 24 years</td>\n",
       "      <td>20 - 24 years</td>\n",
       "      <td>15 - 24 years</td>\n",
       "      <td>...</td>\n",
       "      <td>NaN</td>\n",
       "      <td>NaN</td>\n",
       "      <td>NaN</td>\n",
       "      <td>White</td>\n",
       "      <td>NaN</td>\n",
       "      <td>Non - Hispanic white</td>\n",
       "      <td>Other complications of pregnancy</td>\n",
       "      <td>NaN</td>\n",
       "      <td>NaN</td>\n",
       "      <td>NaN</td>\n",
       "    </tr>\n",
       "    <tr>\n",
       "      <th>2</th>\n",
       "      <td>Residents</td>\n",
       "      <td>AL</td>\n",
       "      <td>NaN</td>\n",
       "      <td>9 - 12th grade, no diploma</td>\n",
       "      <td>NaN</td>\n",
       "      <td>7</td>\n",
       "      <td>2</td>\n",
       "      <td>30 - 34 years</td>\n",
       "      <td>30 - 34 years</td>\n",
       "      <td>25 - 34 years</td>\n",
       "      <td>...</td>\n",
       "      <td>NaN</td>\n",
       "      <td>NaN</td>\n",
       "      <td>NaN</td>\n",
       "      <td>Black</td>\n",
       "      <td>NaN</td>\n",
       "      <td>Non - Hispanic black</td>\n",
       "      <td>Other complications of birth; puerperium affec...</td>\n",
       "      <td>NaN</td>\n",
       "      <td>NaN</td>\n",
       "      <td>NaN</td>\n",
       "    </tr>\n",
       "    <tr>\n",
       "      <th>3</th>\n",
       "      <td>Residents</td>\n",
       "      <td>AK</td>\n",
       "      <td>NaN</td>\n",
       "      <td>high school graduate or GED completed</td>\n",
       "      <td>NaN</td>\n",
       "      <td>3</td>\n",
       "      <td>2</td>\n",
       "      <td>35 - 39 years</td>\n",
       "      <td>35 - 39 years</td>\n",
       "      <td>35 - 44 years</td>\n",
       "      <td>...</td>\n",
       "      <td>NaN</td>\n",
       "      <td>NaN</td>\n",
       "      <td>NaN</td>\n",
       "      <td>White</td>\n",
       "      <td>NaN</td>\n",
       "      <td>Non - Hispanic white</td>\n",
       "      <td>Spontaneous abortion</td>\n",
       "      <td>NaN</td>\n",
       "      <td>NaN</td>\n",
       "      <td>NaN</td>\n",
       "    </tr>\n",
       "    <tr>\n",
       "      <th>4</th>\n",
       "      <td>Intrastate Nonresidents</td>\n",
       "      <td>AZ</td>\n",
       "      <td>NaN</td>\n",
       "      <td>high school graduate or GED completed</td>\n",
       "      <td>NaN</td>\n",
       "      <td>3</td>\n",
       "      <td>2</td>\n",
       "      <td>20 - 24 years</td>\n",
       "      <td>20 - 24 years</td>\n",
       "      <td>15 - 24 years</td>\n",
       "      <td>...</td>\n",
       "      <td>NaN</td>\n",
       "      <td>NaN</td>\n",
       "      <td>NaN</td>\n",
       "      <td>Races other than White or Black</td>\n",
       "      <td>NaN</td>\n",
       "      <td>Non - Hispanic other races</td>\n",
       "      <td>Hypertension complicating pregnancy; childbirt...</td>\n",
       "      <td>NaN</td>\n",
       "      <td>NaN</td>\n",
       "      <td>NaN</td>\n",
       "    </tr>\n",
       "    <tr>\n",
       "      <th>...</th>\n",
       "      <td>...</td>\n",
       "      <td>...</td>\n",
       "      <td>...</td>\n",
       "      <td>...</td>\n",
       "      <td>...</td>\n",
       "      <td>...</td>\n",
       "      <td>...</td>\n",
       "      <td>...</td>\n",
       "      <td>...</td>\n",
       "      <td>...</td>\n",
       "      <td>...</td>\n",
       "      <td>...</td>\n",
       "      <td>...</td>\n",
       "      <td>...</td>\n",
       "      <td>...</td>\n",
       "      <td>...</td>\n",
       "      <td>...</td>\n",
       "      <td>...</td>\n",
       "      <td>...</td>\n",
       "      <td>...</td>\n",
       "      <td>...</td>\n",
       "    </tr>\n",
       "    <tr>\n",
       "      <th>2444</th>\n",
       "      <td>Residents</td>\n",
       "      <td>WI</td>\n",
       "      <td>3 years of high school</td>\n",
       "      <td>NaN</td>\n",
       "      <td>0.0</td>\n",
       "      <td>8</td>\n",
       "      <td>F</td>\n",
       "      <td>30 - 34 years</td>\n",
       "      <td>30 - 34 years</td>\n",
       "      <td>25 - 34 years</td>\n",
       "      <td>...</td>\n",
       "      <td>NaN</td>\n",
       "      <td>NaN</td>\n",
       "      <td>NaN</td>\n",
       "      <td>White</td>\n",
       "      <td>White</td>\n",
       "      <td>Non - Hispanic white</td>\n",
       "      <td>Other complications of birth; puerperium affec...</td>\n",
       "      <td>NaN</td>\n",
       "      <td>NaN</td>\n",
       "      <td>NaN</td>\n",
       "    </tr>\n",
       "    <tr>\n",
       "      <th>2445</th>\n",
       "      <td>Intrastate Nonresidents</td>\n",
       "      <td>WI</td>\n",
       "      <td>2 years of college</td>\n",
       "      <td>NaN</td>\n",
       "      <td>0.0</td>\n",
       "      <td>9</td>\n",
       "      <td>F</td>\n",
       "      <td>45 - 49 years</td>\n",
       "      <td>45 - 49 years</td>\n",
       "      <td>45 - 54 years</td>\n",
       "      <td>...</td>\n",
       "      <td>NaN</td>\n",
       "      <td>NaN</td>\n",
       "      <td>NaN</td>\n",
       "      <td>White</td>\n",
       "      <td>White</td>\n",
       "      <td>Non - Hispanic white</td>\n",
       "      <td>Other complications of birth; puerperium affec...</td>\n",
       "      <td>NaN</td>\n",
       "      <td>NaN</td>\n",
       "      <td>NaN</td>\n",
       "    </tr>\n",
       "    <tr>\n",
       "      <th>2446</th>\n",
       "      <td>Residents</td>\n",
       "      <td>WI</td>\n",
       "      <td>4 years of college</td>\n",
       "      <td>NaN</td>\n",
       "      <td>0.0</td>\n",
       "      <td>11</td>\n",
       "      <td>F</td>\n",
       "      <td>30 - 34 years</td>\n",
       "      <td>30 - 34 years</td>\n",
       "      <td>25 - 34 years</td>\n",
       "      <td>...</td>\n",
       "      <td>O96</td>\n",
       "      <td>NaN</td>\n",
       "      <td>NaN</td>\n",
       "      <td>White</td>\n",
       "      <td>White</td>\n",
       "      <td>Non - Hispanic white</td>\n",
       "      <td>Other complications of birth; puerperium affec...</td>\n",
       "      <td>Other complications of birth; puerperium affec...</td>\n",
       "      <td>NaN</td>\n",
       "      <td>NaN</td>\n",
       "    </tr>\n",
       "    <tr>\n",
       "      <th>2447</th>\n",
       "      <td>Residents</td>\n",
       "      <td>WI</td>\n",
       "      <td>4 years of high school</td>\n",
       "      <td>NaN</td>\n",
       "      <td>0.0</td>\n",
       "      <td>12</td>\n",
       "      <td>F</td>\n",
       "      <td>20 - 24 years</td>\n",
       "      <td>20 - 24 years</td>\n",
       "      <td>15 - 24 years</td>\n",
       "      <td>...</td>\n",
       "      <td>NaN</td>\n",
       "      <td>NaN</td>\n",
       "      <td>NaN</td>\n",
       "      <td>White</td>\n",
       "      <td>White</td>\n",
       "      <td>Non - Hispanic white</td>\n",
       "      <td>Other complications of birth; puerperium affec...</td>\n",
       "      <td>NaN</td>\n",
       "      <td>NaN</td>\n",
       "      <td>NaN</td>\n",
       "    </tr>\n",
       "    <tr>\n",
       "      <th>2448</th>\n",
       "      <td>Residents</td>\n",
       "      <td>WV</td>\n",
       "      <td>4 years of college</td>\n",
       "      <td>NaN</td>\n",
       "      <td>0.0</td>\n",
       "      <td>9</td>\n",
       "      <td>F</td>\n",
       "      <td>30 - 34 years</td>\n",
       "      <td>30 - 34 years</td>\n",
       "      <td>25 - 34 years</td>\n",
       "      <td>...</td>\n",
       "      <td>NaN</td>\n",
       "      <td>NaN</td>\n",
       "      <td>NaN</td>\n",
       "      <td>White</td>\n",
       "      <td>White</td>\n",
       "      <td>Non - Hispanic white</td>\n",
       "      <td>Hemorrhage during pregnancy; abruptio placenta...</td>\n",
       "      <td>NaN</td>\n",
       "      <td>NaN</td>\n",
       "      <td>NaN</td>\n",
       "    </tr>\n",
       "  </tbody>\n",
       "</table>\n",
       "<p>2449 rows × 29 columns</p>\n",
       "</div>"
      ],
      "text/plain": [
       "                     restatus stateoc                educ1989  \\\n",
       "0                   Residents      AL                     NaN   \n",
       "1                   Residents      AL                     NaN   \n",
       "2                   Residents      AL                     NaN   \n",
       "3                   Residents      AK                     NaN   \n",
       "4     Intrastate Nonresidents      AZ                     NaN   \n",
       "...                       ...     ...                     ...   \n",
       "2444                Residents      WI  3 years of high school   \n",
       "2445  Intrastate Nonresidents      WI      2 years of college   \n",
       "2446                Residents      WI      4 years of college   \n",
       "2447                Residents      WI  4 years of high school   \n",
       "2448                Residents      WV      4 years of college   \n",
       "\n",
       "                                   educ2003  educflag  monthdth sex  \\\n",
       "0     high school graduate or GED completed       NaN         4   2   \n",
       "1                9 - 12th grade, no diploma       NaN         5   2   \n",
       "2                9 - 12th grade, no diploma       NaN         7   2   \n",
       "3     high school graduate or GED completed       NaN         3   2   \n",
       "4     high school graduate or GED completed       NaN         3   2   \n",
       "...                                     ...       ...       ...  ..   \n",
       "2444                                    NaN       0.0         8   F   \n",
       "2445                                    NaN       0.0         9   F   \n",
       "2446                                    NaN       0.0        11   F   \n",
       "2447                                    NaN       0.0        12   F   \n",
       "2448                                    NaN       0.0         9   F   \n",
       "\n",
       "             ager52         ager27         ager12  ... record_2 record_3  \\\n",
       "0     25 - 29 years  25 - 29 years  25 - 34 years  ...     O268      NaN   \n",
       "1     20 - 24 years  20 - 24 years  15 - 24 years  ...      NaN      NaN   \n",
       "2     30 - 34 years  30 - 34 years  25 - 34 years  ...      NaN      NaN   \n",
       "3     35 - 39 years  35 - 39 years  35 - 44 years  ...      NaN      NaN   \n",
       "4     20 - 24 years  20 - 24 years  15 - 24 years  ...      NaN      NaN   \n",
       "...             ...            ...            ...  ...      ...      ...   \n",
       "2444  30 - 34 years  30 - 34 years  25 - 34 years  ...      NaN      NaN   \n",
       "2445  45 - 49 years  45 - 49 years  45 - 54 years  ...      NaN      NaN   \n",
       "2446  30 - 34 years  30 - 34 years  25 - 34 years  ...      O96      NaN   \n",
       "2447  20 - 24 years  20 - 24 years  15 - 24 years  ...      NaN      NaN   \n",
       "2448  30 - 34 years  30 - 34 years  25 - 34 years  ...      NaN      NaN   \n",
       "\n",
       "      record_4                           racer3 racer5  \\\n",
       "0          NaN                            Black    NaN   \n",
       "1          NaN                            White    NaN   \n",
       "2          NaN                            Black    NaN   \n",
       "3          NaN                            White    NaN   \n",
       "4          NaN  Races other than White or Black    NaN   \n",
       "...        ...                              ...    ...   \n",
       "2444       NaN                            White  White   \n",
       "2445       NaN                            White  White   \n",
       "2446       NaN                            White  White   \n",
       "2447       NaN                            White  White   \n",
       "2448       NaN                            White  White   \n",
       "\n",
       "                        hspanicr  \\\n",
       "0           Non - Hispanic black   \n",
       "1           Non - Hispanic white   \n",
       "2           Non - Hispanic black   \n",
       "3           Non - Hispanic white   \n",
       "4     Non - Hispanic other races   \n",
       "...                          ...   \n",
       "2444        Non - Hispanic white   \n",
       "2445        Non - Hispanic white   \n",
       "2446        Non - Hispanic white   \n",
       "2447        Non - Hispanic white   \n",
       "2448        Non - Hispanic white   \n",
       "\n",
       "                                            description  \\\n",
       "0                      Other complications of pregnancy   \n",
       "1                      Other complications of pregnancy   \n",
       "2     Other complications of birth; puerperium affec...   \n",
       "3                                  Spontaneous abortion   \n",
       "4     Hypertension complicating pregnancy; childbirt...   \n",
       "...                                                 ...   \n",
       "2444  Other complications of birth; puerperium affec...   \n",
       "2445  Other complications of birth; puerperium affec...   \n",
       "2446  Other complications of birth; puerperium affec...   \n",
       "2447  Other complications of birth; puerperium affec...   \n",
       "2448  Hemorrhage during pregnancy; abruptio placenta...   \n",
       "\n",
       "                                          record_2_desc  record_3_desc  \\\n",
       "0                      Other complications of pregnancy            NaN   \n",
       "1                                                   NaN            NaN   \n",
       "2                                                   NaN            NaN   \n",
       "3                                                   NaN            NaN   \n",
       "4                                                   NaN            NaN   \n",
       "...                                                 ...            ...   \n",
       "2444                                                NaN            NaN   \n",
       "2445                                                NaN            NaN   \n",
       "2446  Other complications of birth; puerperium affec...            NaN   \n",
       "2447                                                NaN            NaN   \n",
       "2448                                                NaN            NaN   \n",
       "\n",
       "     record_4_desc  \n",
       "0              NaN  \n",
       "1              NaN  \n",
       "2              NaN  \n",
       "3              NaN  \n",
       "4              NaN  \n",
       "...            ...  \n",
       "2444           NaN  \n",
       "2445           NaN  \n",
       "2446           NaN  \n",
       "2447           NaN  \n",
       "2448           NaN  \n",
       "\n",
       "[2449 rows x 29 columns]"
      ]
     },
     "execution_count": 168,
     "metadata": {},
     "output_type": "execute_result"
    }
   ],
   "source": [
    "df = df[['restatus', 'stateoc', 'educ1989', 'educ2003', 'educflag', 'monthdth', 'sex', 'ager52', 'ager27', 'ager12', 'placdth', 'marstat', 'weekday', 'year', 'injwork', 'mandeath', 'ucod', 'ucr358', 'ranum', 'record_2', 'record_3', 'record_4', 'racer3', 'racer5', 'hspanicr', 'description', 'record_2_desc', 'record_3_desc', 'record_4_desc']].copy()\n",
    "df"
   ]
  },
  {
   "cell_type": "code",
   "execution_count": 169,
   "metadata": {},
   "outputs": [],
   "source": [
    "df.to_csv (r'C:\\Users\\Marina\\Documents\\DS4A\\Notebooks\\Project\\data\\dataframe_2000-2004.csv', index = False, header=True)"
   ]
  },
  {
   "cell_type": "code",
   "execution_count": 171,
   "metadata": {},
   "outputs": [],
   "source": [
    "df_2000_2004 = df.copy()"
   ]
  },
  {
   "cell_type": "code",
   "execution_count": 172,
   "metadata": {},
   "outputs": [],
   "source": [
    "df_2010_2018 = pd.read_csv(\"https://raw.githubusercontent.com/mslev/ds4a/main/data/dataframe.csv\")"
   ]
  },
  {
   "cell_type": "code",
   "execution_count": 173,
   "metadata": {},
   "outputs": [],
   "source": [
    "dataframe = pd.concat([df_2000_2004, df_2010_2018])"
   ]
  },
  {
   "cell_type": "code",
   "execution_count": 175,
   "metadata": {},
   "outputs": [],
   "source": [
    "dataframe.to_csv (r'C:\\Users\\Marina\\Documents\\DS4A\\Notebooks\\Project\\data\\dataframe_updated.csv', index = False, header=True)"
   ]
  },
  {
   "cell_type": "markdown",
   "metadata": {},
   "source": [
    "# Inspect/EDA"
   ]
  },
  {
   "cell_type": "code",
   "execution_count": 177,
   "metadata": {},
   "outputs": [],
   "source": [
    "df = dataframe.copy()"
   ]
  },
  {
   "cell_type": "code",
   "execution_count": 181,
   "metadata": {},
   "outputs": [],
   "source": [
    "states = df[df['stateoc'].notna()]"
   ]
  },
  {
   "cell_type": "code",
   "execution_count": 184,
   "metadata": {},
   "outputs": [
    {
     "data": {
      "text/plain": [
       "2004    698\n",
       "2003    548\n",
       "2001    418\n",
       "2000    404\n",
       "2002    381\n",
       "Name: year, dtype: int64"
      ]
     },
     "execution_count": 184,
     "metadata": {},
     "output_type": "execute_result"
    }
   ],
   "source": [
    "states['year'].value_counts()"
   ]
  },
  {
   "cell_type": "code",
   "execution_count": 197,
   "metadata": {},
   "outputs": [],
   "source": [
    "group = pd.DataFrame(states.groupby(by=['year', 'stateoc']).size()).reset_index()"
   ]
  },
  {
   "cell_type": "code",
   "execution_count": 201,
   "metadata": {},
   "outputs": [],
   "source": [
    "group.columns = ['year', 'state', 'count']"
   ]
  },
  {
   "cell_type": "code",
   "execution_count": 206,
   "metadata": {},
   "outputs": [
    {
     "data": {
      "text/html": [
       "<div>\n",
       "<style scoped>\n",
       "    .dataframe tbody tr th:only-of-type {\n",
       "        vertical-align: middle;\n",
       "    }\n",
       "\n",
       "    .dataframe tbody tr th {\n",
       "        vertical-align: top;\n",
       "    }\n",
       "\n",
       "    .dataframe thead th {\n",
       "        text-align: right;\n",
       "    }\n",
       "</style>\n",
       "<table border=\"1\" class=\"dataframe\">\n",
       "  <thead>\n",
       "    <tr style=\"text-align: right;\">\n",
       "      <th></th>\n",
       "      <th>year</th>\n",
       "      <th>state</th>\n",
       "      <th>count</th>\n",
       "    </tr>\n",
       "  </thead>\n",
       "  <tbody>\n",
       "    <tr>\n",
       "      <th>4</th>\n",
       "      <td>2000</td>\n",
       "      <td>CA</td>\n",
       "      <td>56</td>\n",
       "    </tr>\n",
       "    <tr>\n",
       "      <th>42</th>\n",
       "      <td>2000</td>\n",
       "      <td>TX</td>\n",
       "      <td>30</td>\n",
       "    </tr>\n",
       "    <tr>\n",
       "      <th>9</th>\n",
       "      <td>2000</td>\n",
       "      <td>FL</td>\n",
       "      <td>29</td>\n",
       "    </tr>\n",
       "    <tr>\n",
       "      <th>33</th>\n",
       "      <td>2000</td>\n",
       "      <td>NY</td>\n",
       "      <td>24</td>\n",
       "    </tr>\n",
       "    <tr>\n",
       "      <th>10</th>\n",
       "      <td>2000</td>\n",
       "      <td>GA</td>\n",
       "      <td>22</td>\n",
       "    </tr>\n",
       "    <tr>\n",
       "      <th>34</th>\n",
       "      <td>2000</td>\n",
       "      <td>OH</td>\n",
       "      <td>20</td>\n",
       "    </tr>\n",
       "  </tbody>\n",
       "</table>\n",
       "</div>"
      ],
      "text/plain": [
       "    year state  count\n",
       "4   2000    CA     56\n",
       "42  2000    TX     30\n",
       "9   2000    FL     29\n",
       "33  2000    NY     24\n",
       "10  2000    GA     22\n",
       "34  2000    OH     20"
      ]
     },
     "execution_count": 206,
     "metadata": {},
     "output_type": "execute_result"
    }
   ],
   "source": [
    "group[group['year'] == 2000].sort_values(by=['count'], ascending=False).head(6)"
   ]
  },
  {
   "cell_type": "code",
   "execution_count": 212,
   "metadata": {},
   "outputs": [
    {
     "data": {
      "image/png": "[encoded data removed]",
      "text/plain": [
       "<Figure size 432x288 with 1 Axes>"
      ]
     },
     "metadata": {
      "needs_background": "light"
     },
     "output_type": "display_data"
    },
    {
     "data": {
      "image/png": "[encoded data removed]",
      "text/plain": [
       "<Figure size 432x288 with 1 Axes>"
      ]
     },
     "metadata": {
      "needs_background": "light"
     },
     "output_type": "display_data"
    },
    {
     "data": {
      "image/png": "[encoded data removed]",
      "text/plain": [
       "<Figure size 432x288 with 1 Axes>"
      ]
     },
     "metadata": {
      "needs_background": "light"
     },
     "output_type": "display_data"
    },
    {
     "data": {
      "image/png": "[encoded data removed]",
      "text/plain": [
       "<Figure size 432x288 with 1 Axes>"
      ]
     },
     "metadata": {
      "needs_background": "light"
     },
     "output_type": "display_data"
    },
    {
     "data": {
      "image/png": "[encoded data removed]",
      "text/plain": [
       "<Figure size 432x288 with 1 Axes>"
      ]
     },
     "metadata": {
      "needs_background": "light"
     },
     "output_type": "display_data"
    }
   ],
   "source": [
    "for i in range(2000,2005):\n",
    "    temp = group[group['year'] == i].sort_values(by=['count'], ascending=False).head(6)\n",
    "    plt.figure()\n",
    "    ax = sns.barplot(x=\"state\", y=\"count\", data=temp).set_title(i)"
   ]
  },
  {
   "cell_type": "code",
   "execution_count": null,
   "metadata": {},
   "outputs": [],
   "source": []
  },
  {
   "cell_type": "code",
   "execution_count": null,
   "metadata": {},
   "outputs": [],
   "source": [
    "g = sns.FacetGrid(df, row=\"variable\", hue=\"segment\",\n",
    "                  palette=\"Set3\", size=4, aspect=2)\n",
    "g.map(sns.barplot, 'interval', 'value', order=times)"
   ]
  }
 ],
 "metadata": {
  "kernelspec": {
   "display_name": "Python 3",
   "language": "python",
   "name": "python3"
  },
  "language_info": {
   "codemirror_mode": {
    "name": "ipython",
    "version": 3
   },
   "file_extension": ".py",
   "mimetype": "text/x-python",
   "name": "python",
   "nbconvert_exporter": "python",
   "pygments_lexer": "ipython3",
   "version": "3.8.3"
  }
 },
 "nbformat": 4,
 "nbformat_minor": 4
}
