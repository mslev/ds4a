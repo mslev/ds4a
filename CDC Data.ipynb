{
 "cells": [
  {
   "cell_type": "code",
   "execution_count": 43,
   "metadata": {},
   "outputs": [],
   "source": [
    "import numpy as np\n",
    "import pandas as pd\n",
    "import matplotlib.pyplot as plt\n",
    "import seaborn as sns"
   ]
  },
  {
   "cell_type": "markdown",
   "metadata": {},
   "source": [
    "# Clean"
   ]
  },
  {
   "cell_type": "code",
   "execution_count": 2,
   "metadata": {},
   "outputs": [],
   "source": [
    "df1 = pd.read_csv(\"https://github.com/mslev/ds4a/raw/main/data/mort2010_pp.csv\")\n",
    "df2 = pd.read_csv(\"https://github.com/mslev/ds4a/raw/main/data/mort2011_pp.csv\")\n",
    "df3 = pd.read_csv(\"https://github.com/mslev/ds4a/raw/main/data/mort2012_pp.csv\")\n",
    "df4 = pd.read_csv(\"https://github.com/mslev/ds4a/raw/main/data/mort2013_pp.csv\")\n",
    "df5 = pd.read_csv(\"https://github.com/mslev/ds4a/raw/main/data/mort2014_pp.csv\")\n",
    "df6 = pd.read_csv(\"https://github.com/mslev/ds4a/raw/main/data/mort2015_pp.csv\")\n",
    "df7 = pd.read_csv(\"https://github.com/mslev/ds4a/raw/main/data/mort2016_pp.csv\")\n",
    "df8 = pd.read_csv(\"https://github.com/mslev/ds4a/raw/main/data/mort2017_pp.csv\")\n",
    "df9 = pd.read_csv(\"https://github.com/mslev/ds4a/raw/main/data/mort2018_pp.csv\")"
   ]
  },
  {
   "cell_type": "code",
   "execution_count": 3,
   "metadata": {},
   "outputs": [
    {
     "data": {
      "text/html": [
       "<div>\n",
       "<style scoped>\n",
       "    .dataframe tbody tr th:only-of-type {\n",
       "        vertical-align: middle;\n",
       "    }\n",
       "\n",
       "    .dataframe tbody tr th {\n",
       "        vertical-align: top;\n",
       "    }\n",
       "\n",
       "    .dataframe thead th {\n",
       "        text-align: right;\n",
       "    }\n",
       "</style>\n",
       "<table border=\"1\" class=\"dataframe\">\n",
       "  <thead>\n",
       "    <tr style=\"text-align: right;\">\n",
       "      <th></th>\n",
       "      <th>restatus</th>\n",
       "      <th>educ1989</th>\n",
       "      <th>educ2003</th>\n",
       "      <th>educflag</th>\n",
       "      <th>monthdth</th>\n",
       "      <th>sex</th>\n",
       "      <th>age</th>\n",
       "      <th>ageflag</th>\n",
       "      <th>ager52</th>\n",
       "      <th>ager27</th>\n",
       "      <th>...</th>\n",
       "      <th>record_19</th>\n",
       "      <th>record_20</th>\n",
       "      <th>race</th>\n",
       "      <th>brace</th>\n",
       "      <th>raceimp</th>\n",
       "      <th>racer3</th>\n",
       "      <th>racer5</th>\n",
       "      <th>hispanic</th>\n",
       "      <th>hspanicr</th>\n",
       "      <th>category</th>\n",
       "    </tr>\n",
       "  </thead>\n",
       "  <tbody>\n",
       "    <tr>\n",
       "      <th>0</th>\n",
       "      <td>1</td>\n",
       "      <td>12.0</td>\n",
       "      <td>NaN</td>\n",
       "      <td>0</td>\n",
       "      <td>4</td>\n",
       "      <td>F</td>\n",
       "      <td>1020</td>\n",
       "      <td>NaN</td>\n",
       "      <td>30</td>\n",
       "      <td>10</td>\n",
       "      <td>...</td>\n",
       "      <td>NaN</td>\n",
       "      <td>NaN</td>\n",
       "      <td>3</td>\n",
       "      <td>NaN</td>\n",
       "      <td>NaN</td>\n",
       "      <td>2</td>\n",
       "      <td>3</td>\n",
       "      <td>100</td>\n",
       "      <td>8</td>\n",
       "      <td>O</td>\n",
       "    </tr>\n",
       "    <tr>\n",
       "      <th>1</th>\n",
       "      <td>2</td>\n",
       "      <td>12.0</td>\n",
       "      <td>NaN</td>\n",
       "      <td>0</td>\n",
       "      <td>11</td>\n",
       "      <td>F</td>\n",
       "      <td>1034</td>\n",
       "      <td>NaN</td>\n",
       "      <td>32</td>\n",
       "      <td>12</td>\n",
       "      <td>...</td>\n",
       "      <td>NaN</td>\n",
       "      <td>NaN</td>\n",
       "      <td>3</td>\n",
       "      <td>NaN</td>\n",
       "      <td>NaN</td>\n",
       "      <td>2</td>\n",
       "      <td>3</td>\n",
       "      <td>100</td>\n",
       "      <td>8</td>\n",
       "      <td>O</td>\n",
       "    </tr>\n",
       "    <tr>\n",
       "      <th>2</th>\n",
       "      <td>1</td>\n",
       "      <td>10.0</td>\n",
       "      <td>NaN</td>\n",
       "      <td>0</td>\n",
       "      <td>1</td>\n",
       "      <td>F</td>\n",
       "      <td>1035</td>\n",
       "      <td>NaN</td>\n",
       "      <td>33</td>\n",
       "      <td>13</td>\n",
       "      <td>...</td>\n",
       "      <td>NaN</td>\n",
       "      <td>NaN</td>\n",
       "      <td>2</td>\n",
       "      <td>NaN</td>\n",
       "      <td>NaN</td>\n",
       "      <td>3</td>\n",
       "      <td>2</td>\n",
       "      <td>100</td>\n",
       "      <td>7</td>\n",
       "      <td>O</td>\n",
       "    </tr>\n",
       "    <tr>\n",
       "      <th>3</th>\n",
       "      <td>1</td>\n",
       "      <td>9.0</td>\n",
       "      <td>NaN</td>\n",
       "      <td>0</td>\n",
       "      <td>2</td>\n",
       "      <td>F</td>\n",
       "      <td>1031</td>\n",
       "      <td>NaN</td>\n",
       "      <td>32</td>\n",
       "      <td>12</td>\n",
       "      <td>...</td>\n",
       "      <td>NaN</td>\n",
       "      <td>NaN</td>\n",
       "      <td>2</td>\n",
       "      <td>NaN</td>\n",
       "      <td>NaN</td>\n",
       "      <td>3</td>\n",
       "      <td>2</td>\n",
       "      <td>100</td>\n",
       "      <td>7</td>\n",
       "      <td>O</td>\n",
       "    </tr>\n",
       "    <tr>\n",
       "      <th>4</th>\n",
       "      <td>2</td>\n",
       "      <td>11.0</td>\n",
       "      <td>NaN</td>\n",
       "      <td>0</td>\n",
       "      <td>3</td>\n",
       "      <td>F</td>\n",
       "      <td>1025</td>\n",
       "      <td>NaN</td>\n",
       "      <td>31</td>\n",
       "      <td>11</td>\n",
       "      <td>...</td>\n",
       "      <td>NaN</td>\n",
       "      <td>NaN</td>\n",
       "      <td>2</td>\n",
       "      <td>NaN</td>\n",
       "      <td>NaN</td>\n",
       "      <td>3</td>\n",
       "      <td>2</td>\n",
       "      <td>100</td>\n",
       "      <td>7</td>\n",
       "      <td>O</td>\n",
       "    </tr>\n",
       "    <tr>\n",
       "      <th>...</th>\n",
       "      <td>...</td>\n",
       "      <td>...</td>\n",
       "      <td>...</td>\n",
       "      <td>...</td>\n",
       "      <td>...</td>\n",
       "      <td>...</td>\n",
       "      <td>...</td>\n",
       "      <td>...</td>\n",
       "      <td>...</td>\n",
       "      <td>...</td>\n",
       "      <td>...</td>\n",
       "      <td>...</td>\n",
       "      <td>...</td>\n",
       "      <td>...</td>\n",
       "      <td>...</td>\n",
       "      <td>...</td>\n",
       "      <td>...</td>\n",
       "      <td>...</td>\n",
       "      <td>...</td>\n",
       "      <td>...</td>\n",
       "      <td>...</td>\n",
       "    </tr>\n",
       "    <tr>\n",
       "      <th>971</th>\n",
       "      <td>1</td>\n",
       "      <td>NaN</td>\n",
       "      <td>2.0</td>\n",
       "      <td>1</td>\n",
       "      <td>10</td>\n",
       "      <td>F</td>\n",
       "      <td>1024</td>\n",
       "      <td>NaN</td>\n",
       "      <td>30</td>\n",
       "      <td>10</td>\n",
       "      <td>...</td>\n",
       "      <td>NaN</td>\n",
       "      <td>NaN</td>\n",
       "      <td>2</td>\n",
       "      <td>NaN</td>\n",
       "      <td>NaN</td>\n",
       "      <td>3</td>\n",
       "      <td>2</td>\n",
       "      <td>100</td>\n",
       "      <td>7</td>\n",
       "      <td>O</td>\n",
       "    </tr>\n",
       "    <tr>\n",
       "      <th>972</th>\n",
       "      <td>1</td>\n",
       "      <td>NaN</td>\n",
       "      <td>9.0</td>\n",
       "      <td>1</td>\n",
       "      <td>10</td>\n",
       "      <td>F</td>\n",
       "      <td>1030</td>\n",
       "      <td>NaN</td>\n",
       "      <td>32</td>\n",
       "      <td>12</td>\n",
       "      <td>...</td>\n",
       "      <td>NaN</td>\n",
       "      <td>NaN</td>\n",
       "      <td>2</td>\n",
       "      <td>NaN</td>\n",
       "      <td>NaN</td>\n",
       "      <td>3</td>\n",
       "      <td>2</td>\n",
       "      <td>100</td>\n",
       "      <td>7</td>\n",
       "      <td>O</td>\n",
       "    </tr>\n",
       "    <tr>\n",
       "      <th>973</th>\n",
       "      <td>1</td>\n",
       "      <td>NaN</td>\n",
       "      <td>2.0</td>\n",
       "      <td>1</td>\n",
       "      <td>10</td>\n",
       "      <td>F</td>\n",
       "      <td>1037</td>\n",
       "      <td>NaN</td>\n",
       "      <td>33</td>\n",
       "      <td>13</td>\n",
       "      <td>...</td>\n",
       "      <td>NaN</td>\n",
       "      <td>NaN</td>\n",
       "      <td>2</td>\n",
       "      <td>NaN</td>\n",
       "      <td>NaN</td>\n",
       "      <td>3</td>\n",
       "      <td>2</td>\n",
       "      <td>100</td>\n",
       "      <td>7</td>\n",
       "      <td>O</td>\n",
       "    </tr>\n",
       "    <tr>\n",
       "      <th>974</th>\n",
       "      <td>2</td>\n",
       "      <td>NaN</td>\n",
       "      <td>3.0</td>\n",
       "      <td>1</td>\n",
       "      <td>12</td>\n",
       "      <td>F</td>\n",
       "      <td>1030</td>\n",
       "      <td>NaN</td>\n",
       "      <td>32</td>\n",
       "      <td>12</td>\n",
       "      <td>...</td>\n",
       "      <td>NaN</td>\n",
       "      <td>NaN</td>\n",
       "      <td>2</td>\n",
       "      <td>NaN</td>\n",
       "      <td>NaN</td>\n",
       "      <td>3</td>\n",
       "      <td>2</td>\n",
       "      <td>100</td>\n",
       "      <td>7</td>\n",
       "      <td>O</td>\n",
       "    </tr>\n",
       "    <tr>\n",
       "      <th>975</th>\n",
       "      <td>1</td>\n",
       "      <td>NaN</td>\n",
       "      <td>3.0</td>\n",
       "      <td>1</td>\n",
       "      <td>12</td>\n",
       "      <td>F</td>\n",
       "      <td>1026</td>\n",
       "      <td>NaN</td>\n",
       "      <td>31</td>\n",
       "      <td>11</td>\n",
       "      <td>...</td>\n",
       "      <td>NaN</td>\n",
       "      <td>NaN</td>\n",
       "      <td>2</td>\n",
       "      <td>NaN</td>\n",
       "      <td>NaN</td>\n",
       "      <td>3</td>\n",
       "      <td>2</td>\n",
       "      <td>299</td>\n",
       "      <td>5</td>\n",
       "      <td>O</td>\n",
       "    </tr>\n",
       "  </tbody>\n",
       "</table>\n",
       "<p>9601 rows × 117 columns</p>\n",
       "</div>"
      ],
      "text/plain": [
       "     restatus  educ1989  educ2003  educflag  monthdth sex   age  ageflag  \\\n",
       "0           1      12.0       NaN         0         4   F  1020      NaN   \n",
       "1           2      12.0       NaN         0        11   F  1034      NaN   \n",
       "2           1      10.0       NaN         0         1   F  1035      NaN   \n",
       "3           1       9.0       NaN         0         2   F  1031      NaN   \n",
       "4           2      11.0       NaN         0         3   F  1025      NaN   \n",
       "..        ...       ...       ...       ...       ...  ..   ...      ...   \n",
       "971         1       NaN       2.0         1        10   F  1024      NaN   \n",
       "972         1       NaN       9.0         1        10   F  1030      NaN   \n",
       "973         1       NaN       2.0         1        10   F  1037      NaN   \n",
       "974         2       NaN       3.0         1        12   F  1030      NaN   \n",
       "975         1       NaN       3.0         1        12   F  1026      NaN   \n",
       "\n",
       "     ager52  ager27  ...  record_19  record_20  race brace  raceimp  racer3  \\\n",
       "0        30      10  ...        NaN        NaN     3   NaN      NaN       2   \n",
       "1        32      12  ...        NaN        NaN     3   NaN      NaN       2   \n",
       "2        33      13  ...        NaN        NaN     2   NaN      NaN       3   \n",
       "3        32      12  ...        NaN        NaN     2   NaN      NaN       3   \n",
       "4        31      11  ...        NaN        NaN     2   NaN      NaN       3   \n",
       "..      ...     ...  ...        ...        ...   ...   ...      ...     ...   \n",
       "971      30      10  ...        NaN        NaN     2   NaN      NaN       3   \n",
       "972      32      12  ...        NaN        NaN     2   NaN      NaN       3   \n",
       "973      33      13  ...        NaN        NaN     2   NaN      NaN       3   \n",
       "974      32      12  ...        NaN        NaN     2   NaN      NaN       3   \n",
       "975      31      11  ...        NaN        NaN     2   NaN      NaN       3   \n",
       "\n",
       "    racer5  hispanic hspanicr category  \n",
       "0        3       100        8        O  \n",
       "1        3       100        8        O  \n",
       "2        2       100        7        O  \n",
       "3        2       100        7        O  \n",
       "4        2       100        7        O  \n",
       "..     ...       ...      ...      ...  \n",
       "971      2       100        7        O  \n",
       "972      2       100        7        O  \n",
       "973      2       100        7        O  \n",
       "974      2       100        7        O  \n",
       "975      2       299        5        O  \n",
       "\n",
       "[9601 rows x 117 columns]"
      ]
     },
     "execution_count": 3,
     "metadata": {},
     "output_type": "execute_result"
    }
   ],
   "source": [
    "df = pd.concat([df1, df2, df3, df4, df5, df6, df7, df8, df9])\n",
    "del df['Unnamed: 0']\n",
    "df"
   ]
  },
  {
   "cell_type": "code",
   "execution_count": 4,
   "metadata": {},
   "outputs": [
    {
     "name": "stdout",
     "output_type": "stream",
     "text": [
      "['restatus', 'educ1989', 'educ2003', 'educflag', 'monthdth', 'sex', 'age', 'ageflag', 'ager52', 'ager27', 'ager12', 'ager22', 'placdth', 'marstat', 'weekday', 'year', 'injwork', 'mandeath', 'methdisp', 'autopsy', 'activity', 'injury', 'ucod', 'ucr358', 'ucr113', 'ucr130', 'ucr39', 'eanum', 'econdp_1', 'econds_1', 'enicon_1', 'econdp_2', 'econds_2', 'enicon_2', 'econdp_3', 'econds_3', 'enicon_3', 'econdp_4', 'econds_4', 'enicon_4', 'econdp_5', 'econds_5', 'enicon_5', 'econdp_6', 'econds_6', 'enicon_6', 'econdp_7', 'econds_7', 'enicon_7', 'econdp_8', 'econds_8', 'enicon_8', 'econdp_9', 'econds_9', 'enicon_9', 'econdp_10', 'econds_10', 'enicon_10', 'econdp_11', 'econds_11', 'enicon_11', 'econdp_12', 'econds_12', 'enicon_12', 'econdp_13', 'econds_13', 'enicon_13', 'econdp_14', 'econds_14', 'enicon_14', 'econdp_15', 'econds_15', 'enicon_15', 'econdp_16', 'econds_16', 'enicon_16', 'econdp_17', 'econds_17', 'enicon_17', 'econdp_18', 'econds_18', 'enicon_18', 'econdp_19', 'econds_19', 'enicon_19', 'econdp_20', 'econds_20', 'enicon_20', 'ranum', 'record_1', 'record_2', 'record_3', 'record_4', 'record_5', 'record_6', 'record_7', 'record_8', 'record_9', 'record_10', 'record_11', 'record_12', 'record_13', 'record_14', 'record_15', 'record_16', 'record_17', 'record_18', 'record_19', 'record_20', 'race', 'brace', 'raceimp', 'racer3', 'racer5', 'hispanic', 'hspanicr', 'category']\n"
     ]
    }
   ],
   "source": [
    "print(df.columns.tolist())"
   ]
  },
  {
   "cell_type": "code",
   "execution_count": 5,
   "metadata": {},
   "outputs": [
    {
     "data": {
      "text/plain": [
       "1    6593\n",
       "2    2437\n",
       "3     529\n",
       "4      42\n",
       "Name: restatus, dtype: int64"
      ]
     },
     "execution_count": 5,
     "metadata": {},
     "output_type": "execute_result"
    }
   ],
   "source": [
    "df['restatus'].value_counts()"
   ]
  },
  {
   "cell_type": "code",
   "execution_count": 6,
   "metadata": {},
   "outputs": [
    {
     "data": {
      "text/plain": [
       "Residents                  6593\n",
       "Intrastate Nonresidents    2437\n",
       "Interstate Nonresidents     529\n",
       "Foreign Residents            42\n",
       "Name: restatus, dtype: int64"
      ]
     },
     "execution_count": 6,
     "metadata": {},
     "output_type": "execute_result"
    }
   ],
   "source": [
    "df.loc[df['restatus'] == 1, 'restatus'] = \"Residents\"\n",
    "df.loc[df['restatus'] == 2, 'restatus'] = \"Intrastate Nonresidents\"\n",
    "df.loc[df['restatus'] == 3, 'restatus'] = \"Interstate Nonresidents\"\n",
    "df.loc[df['restatus'] == 4, 'restatus'] = \"Foreign Residents\"\n",
    "df['restatus'].value_counts()"
   ]
  },
  {
   "cell_type": "code",
   "execution_count": 7,
   "metadata": {},
   "outputs": [
    {
     "data": {
      "text/plain": [
       "12.0    182\n",
       "14.0     75\n",
       "16.0     73\n",
       "13.0     44\n",
       "17.0     38\n",
       "11.0     28\n",
       "10.0     27\n",
       "15.0     18\n",
       "9.0      18\n",
       "99.0      7\n",
       "6.0       6\n",
       "8.0       5\n",
       "7.0       2\n",
       "3.0       1\n",
       "0.0       1\n",
       "Name: educ1989, dtype: int64"
      ]
     },
     "execution_count": 7,
     "metadata": {},
     "output_type": "execute_result"
    }
   ],
   "source": [
    "df['educ1989'].value_counts()"
   ]
  },
  {
   "cell_type": "code",
   "execution_count": 8,
   "metadata": {},
   "outputs": [
    {
     "data": {
      "text/plain": [
       "4 years of high school          182\n",
       "2 years of college               75\n",
       "4 years of college               73\n",
       "1 year of college                44\n",
       "5 or more years of college       38\n",
       "3 years of high school           28\n",
       "2 years of high school           27\n",
       "3 years of college               18\n",
       "1 year of high school            18\n",
       "Not stated                        7\n",
       "6 Years of elementary school      6\n",
       "8 Years of elementary school      5\n",
       "7 Years of elementary school      2\n",
       "3 Years of elementary school      1\n",
       "No formal education               1\n",
       "Name: educ1989, dtype: int64"
      ]
     },
     "execution_count": 8,
     "metadata": {},
     "output_type": "execute_result"
    }
   ],
   "source": [
    "df.loc[df['educ1989'] == 0, 'educ1989'] = \"No formal education\"\n",
    "df.loc[df['educ1989'] == 3, 'educ1989'] = \"3 Years of elementary school\"\n",
    "df.loc[df['educ1989'] == 6, 'educ1989'] = \"6 Years of elementary school\"\n",
    "df.loc[df['educ1989'] == 7, 'educ1989'] = \"7 Years of elementary school\"\n",
    "df.loc[df['educ1989'] == 8, 'educ1989'] = \"8 Years of elementary school\"\n",
    "df.loc[df['educ1989'] == 9, 'educ1989'] = \"1 year of high school\"\n",
    "df.loc[df['educ1989'] == 10, 'educ1989'] = \"2 years of high school\"\n",
    "df.loc[df['educ1989'] == 11, 'educ1989'] = \"3 years of high school\"\n",
    "df.loc[df['educ1989'] == 12, 'educ1989'] = \"4 years of high school\"\n",
    "df.loc[df['educ1989'] == 13, 'educ1989'] = \"1 year of college\"\n",
    "df.loc[df['educ1989'] == 14, 'educ1989'] = \"2 years of college\"\n",
    "df.loc[df['educ1989'] == 15, 'educ1989'] = \"3 years of college\"\n",
    "df.loc[df['educ1989'] == 16, 'educ1989'] = \"4 years of college\"\n",
    "df.loc[df['educ1989'] == 17, 'educ1989'] = \"5 or more years of college\"\n",
    "df.loc[df['educ1989'] == 99, 'educ1989'] = \"Not stated\"\n",
    "df['educ1989'].value_counts()"
   ]
  },
  {
   "cell_type": "code",
   "execution_count": 9,
   "metadata": {},
   "outputs": [
    {
     "data": {
      "text/plain": [
       "high school graduate or GED completed    3441\n",
       "some college credit, but no degree       1543\n",
       "9 - 12th grade, no diploma               1308\n",
       "Bachelor’s degree                        1030\n",
       "Associate degree                          720\n",
       "8th grade or less                         440\n",
       "Master’s degree                           374\n",
       "Unknown                                   121\n",
       "Doctorate or professional degree           99\n",
       "Name: educ2003, dtype: int64"
      ]
     },
     "execution_count": 9,
     "metadata": {},
     "output_type": "execute_result"
    }
   ],
   "source": [
    "df['educ2003'].value_counts()\n",
    "df.loc[df['educ2003'] == 1, 'educ2003'] = \"8th grade or less\"\n",
    "df.loc[df['educ2003'] == 2, 'educ2003'] = \"9 - 12th grade, no diploma\"\n",
    "df.loc[df['educ2003'] == 3, 'educ2003'] = \"high school graduate or GED completed\"\n",
    "df.loc[df['educ2003'] == 4, 'educ2003'] = \"some college credit, but no degree\"\n",
    "df.loc[df['educ2003'] == 5, 'educ2003'] = \"Associate degree\"\n",
    "df.loc[df['educ2003'] == 6, 'educ2003'] = \"Bachelor’s degree\"\n",
    "df.loc[df['educ2003'] == 7, 'educ2003'] = \"Master’s degree\"\n",
    "df.loc[df['educ2003'] == 8, 'educ2003'] = \"Doctorate or professional degree\"\n",
    "df.loc[df['educ2003'] == 9, 'educ2003'] = \"Unknown\"\n",
    "df['educ2003'].value_counts()"
   ]
  },
  {
   "cell_type": "code",
   "execution_count": 10,
   "metadata": {},
   "outputs": [
    {
     "data": {
      "text/plain": [
       "30 - 34 years     1979\n",
       "25 - 29 years     1859\n",
       "35 - 39 years     1771\n",
       "20 - 24 years     1202\n",
       "40 - 44 years     1029\n",
       "50 - 54 years      786\n",
       "45 - 49 years      609\n",
       "15 - 19 years      309\n",
       "55 - 59 years       20\n",
       "10 - 14 years       13\n",
       "60 - 64 years        9\n",
       "65 - 69 years        5\n",
       "70 - 74 years        3\n",
       "Age not stated       3\n",
       "75 - 79 years        3\n",
       "85 - 89 years        1\n",
       "Name: ager52, dtype: int64"
      ]
     },
     "execution_count": 10,
     "metadata": {},
     "output_type": "execute_result"
    }
   ],
   "source": [
    "df['ager52'].value_counts()\n",
    "df.loc[df['ager52'] == 28, 'ager52'] = \"10 - 14 years\"\n",
    "df.loc[df['ager52'] == 29, 'ager52'] = \"15 - 19 years\"\n",
    "df.loc[df['ager52'] == 30, 'ager52'] = \"20 - 24 years\"\n",
    "df.loc[df['ager52'] == 31, 'ager52'] = \"25 - 29 years\"\n",
    "df.loc[df['ager52'] == 32, 'ager52'] = \"30 - 34 years\"\n",
    "df.loc[df['ager52'] == 33, 'ager52'] = \"35 - 39 years\"\n",
    "df.loc[df['ager52'] == 34, 'ager52'] = \"40 - 44 years\"\n",
    "df.loc[df['ager52'] == 35, 'ager52'] = \"45 - 49 years\"\n",
    "df.loc[df['ager52'] == 36, 'ager52'] = \"50 - 54 years\"\n",
    "df.loc[df['ager52'] == 37, 'ager52'] = \"55 - 59 years\"\n",
    "df.loc[df['ager52'] == 38, 'ager52'] = \"60 - 64 years\"\n",
    "df.loc[df['ager52'] == 39, 'ager52'] = \"65 - 69 years\"\n",
    "df.loc[df['ager52'] == 40, 'ager52'] = \"70 - 74 years\"\n",
    "df.loc[df['ager52'] == 41, 'ager52'] = \"75 - 79 years\"\n",
    "df.loc[df['ager52'] == 43, 'ager52'] = \"85 - 89 years\"\n",
    "df.loc[df['ager52'] == 52, 'ager52'] = \"Age not stated\"\n",
    "df['ager52'].value_counts()\n"
   ]
  },
  {
   "cell_type": "code",
   "execution_count": 11,
   "metadata": {},
   "outputs": [
    {
     "data": {
      "text/plain": [
       "30 - 34 years     1979\n",
       "25 - 29 years     1859\n",
       "35 - 39 years     1771\n",
       "20 - 24 years     1202\n",
       "40 - 44 years     1029\n",
       "50 - 54 years      786\n",
       "45 - 49 years      609\n",
       "15 - 19 years      309\n",
       "55 - 59 years       20\n",
       "10 - 14 years       13\n",
       "60 - 64 years        9\n",
       "65 - 69 years        5\n",
       "70 - 74 years        3\n",
       "Age not stated       3\n",
       "75 - 79 years        3\n",
       "85 - 89 years        1\n",
       "Name: ager27, dtype: int64"
      ]
     },
     "execution_count": 11,
     "metadata": {},
     "output_type": "execute_result"
    }
   ],
   "source": [
    "df['ager27'].value_counts()\n",
    "df.loc[df['ager27'] == 8, 'ager27'] = \"10 - 14 years\"\n",
    "df.loc[df['ager27'] == 9, 'ager27'] = \"15 - 19 years\"\n",
    "df.loc[df['ager27'] == 10, 'ager27'] = \"20 - 24 years\"\n",
    "df.loc[df['ager27'] == 11, 'ager27'] = \"25 - 29 years\"\n",
    "df.loc[df['ager27'] == 12, 'ager27'] = \"30 - 34 years\"\n",
    "df.loc[df['ager27'] == 13, 'ager27'] = \"35 - 39 years\"\n",
    "df.loc[df['ager27'] == 14, 'ager27'] = \"40 - 44 years\"\n",
    "df.loc[df['ager27'] == 15, 'ager27'] = \"45 - 49 years\"\n",
    "df.loc[df['ager27'] == 16, 'ager27'] = \"50 - 54 years\"\n",
    "df.loc[df['ager27'] == 17, 'ager27'] = \"55 - 59 years\"\n",
    "df.loc[df['ager27'] == 18, 'ager27'] = \"60 - 64 years\"\n",
    "df.loc[df['ager27'] == 19, 'ager27'] = \"65 - 69 years\"\n",
    "df.loc[df['ager27'] == 20, 'ager27'] = \"70 - 74 years\"\n",
    "df.loc[df['ager27'] == 21, 'ager27'] = \"75 - 79 years\"\n",
    "df.loc[df['ager27'] == 23, 'ager27'] = \"85 - 89 years\"\n",
    "df.loc[df['ager27'] == 27, 'ager27'] = \"Age not stated\"\n",
    "df['ager27'].value_counts()"
   ]
  },
  {
   "cell_type": "code",
   "execution_count": 12,
   "metadata": {},
   "outputs": [
    {
     "data": {
      "text/plain": [
       "25 - 34 years        3838\n",
       "35 - 44 years        2800\n",
       "15 - 24 years        1511\n",
       "45 - 54 years        1395\n",
       "55 - 64 years          29\n",
       "5 - 14 years           13\n",
       "65 - 74 years           8\n",
       "Age not stated          3\n",
       "75 - 84 years           3\n",
       "85 years and over       1\n",
       "Name: ager12, dtype: int64"
      ]
     },
     "execution_count": 12,
     "metadata": {},
     "output_type": "execute_result"
    }
   ],
   "source": [
    "df['ager12'].value_counts()\n",
    "df.loc[df['ager12'] == 3, 'ager12'] = \"5 - 14 years\"\n",
    "df.loc[df['ager12'] == 4, 'ager12'] = \"15 - 24 years\"\n",
    "df.loc[df['ager12'] == 5, 'ager12'] = \"25 - 34 years\"\n",
    "df.loc[df['ager12'] == 6, 'ager12'] = \"35 - 44 years\"\n",
    "df.loc[df['ager12'] == 7, 'ager12'] = \"45 - 54 years\"\n",
    "df.loc[df['ager12'] == 8, 'ager12'] = \"55 - 64 years\"\n",
    "df.loc[df['ager12'] == 9, 'ager12'] = \"65 - 74 years\"\n",
    "df.loc[df['ager12'] == 10, 'ager12'] = \"75 - 84 years\"\n",
    "df.loc[df['ager12'] == 11, 'ager12'] = \"85 years and over\"\n",
    "df.loc[df['ager12'] == 12, 'ager12'] = \"Age not stated\"\n",
    "df['ager12'].value_counts()"
   ]
  },
  {
   "cell_type": "code",
   "execution_count": 13,
   "metadata": {},
   "outputs": [
    {
     "data": {
      "text/plain": [
       "Hospital, clinic or Medical Center - Inpatient                                   5635\n",
       "Hospital, Clinic or Medical Center - Outpatient or admitted to Emergency Room    1669\n",
       "Decedent’s home                                                                  1562\n",
       "Other                                                                             283\n",
       "Hospice facility                                                                  227\n",
       "Nursing home/long term care                                                       114\n",
       "Hospital, Clinic or Medical Center- Dead on Arrival                               104\n",
       "Place of death unknown                                                              7\n",
       "Name: placdth, dtype: int64"
      ]
     },
     "execution_count": 13,
     "metadata": {},
     "output_type": "execute_result"
    }
   ],
   "source": [
    "df['placdth'].value_counts()\n",
    "df.loc[df['placdth'] == 1, 'placdth'] = \"Hospital, clinic or Medical Center - Inpatient\"\n",
    "df.loc[df['placdth'] == 2, 'placdth'] = \"Hospital, Clinic or Medical Center - Outpatient or admitted to Emergency Room\"\n",
    "df.loc[df['placdth'] == 3, 'placdth'] = \"Hospital, Clinic or Medical Center- Dead on Arrival\"\n",
    "df.loc[df['placdth'] == 4, 'placdth'] = \"Decedent’s home\"\n",
    "df.loc[df['placdth'] == 5, 'placdth'] = \"Hospice facility\"\n",
    "df.loc[df['placdth'] == 6, 'placdth'] = \"Nursing home/long term care\"\n",
    "df.loc[df['placdth'] == 7, 'placdth'] = \"Other\"\n",
    "df.loc[df['placdth'] == 9, 'placdth'] = \"Place of death unknown\"\n",
    "df['placdth'].value_counts()\n"
   ]
  },
  {
   "cell_type": "code",
   "execution_count": 14,
   "metadata": {},
   "outputs": [
    {
     "data": {
      "text/plain": [
       "Married                   4315\n",
       "Never married, single     4130\n",
       "Divorced                   967\n",
       "Widowed                    125\n",
       "Marital Status unknown      64\n",
       "Name: marstat, dtype: int64"
      ]
     },
     "execution_count": 14,
     "metadata": {},
     "output_type": "execute_result"
    }
   ],
   "source": [
    "df['marstat'].value_counts()\n",
    "df.loc[df['marstat'] == \"M\", 'marstat'] = \"Married\"\n",
    "df.loc[df['marstat'] == \"S\", 'marstat'] = \"Never married, single\"\n",
    "df.loc[df['marstat'] == \"D\", 'marstat'] = \"Divorced\"\n",
    "df.loc[df['marstat'] == \"W\", 'marstat'] = \"Widowed\"\n",
    "df.loc[df['marstat'] == \"U\", 'marstat'] = \"Marital Status unknown\"\n",
    "df['marstat'].value_counts()"
   ]
  },
  {
   "cell_type": "code",
   "execution_count": 15,
   "metadata": {},
   "outputs": [
    {
     "data": {
      "text/plain": [
       "Natural                  8269\n",
       "Accident                  262\n",
       "Could not determine       181\n",
       "Pending investigation     124\n",
       "Suicide                    31\n",
       "Homicide                   12\n",
       "Name: mandeath, dtype: int64"
      ]
     },
     "execution_count": 15,
     "metadata": {},
     "output_type": "execute_result"
    }
   ],
   "source": [
    "df['mandeath'].value_counts()\n",
    "df.loc[df['mandeath'] == 1, 'mandeath'] = \"Accident\"\n",
    "df.loc[df['mandeath'] == 2, 'mandeath'] = \"Suicide\"\n",
    "df.loc[df['mandeath'] == 3, 'mandeath'] = \"Homicide\"\n",
    "df.loc[df['mandeath'] == 4, 'mandeath'] = \"Pending investigation\"\n",
    "df.loc[df['mandeath'] == 5, 'mandeath'] = \"Could not determine\"\n",
    "df.loc[df['mandeath'] == 7, 'mandeath'] = \"Natural\"\n",
    "df['mandeath'].value_counts()"
   ]
  },
  {
   "cell_type": "code",
   "execution_count": 16,
   "metadata": {},
   "outputs": [
    {
     "data": {
      "text/plain": [
       "O268    1761\n",
       "O998    1070\n",
       "O961    1061\n",
       "O960     961\n",
       "O994     614\n",
       "        ... \n",
       "O450       1\n",
       "O870       1\n",
       "O341       1\n",
       "O709       1\n",
       "O058       1\n",
       "Name: ucod, Length: 156, dtype: int64"
      ]
     },
     "execution_count": 16,
     "metadata": {},
     "output_type": "execute_result"
    }
   ],
   "source": [
    "df['ucod'].value_counts()"
   ]
  },
  {
   "cell_type": "code",
   "execution_count": 17,
   "metadata": {},
   "outputs": [],
   "source": [
    "icd_codes = pd.read_csv(\"additional_codes.csv\", sep=',', names=['ucod', 'description'])\n",
    "df = pd.merge(df, icd_codes,how='left', on='ucod')"
   ]
  },
  {
   "cell_type": "code",
   "execution_count": 18,
   "metadata": {},
   "outputs": [
    {
     "data": {
      "text/html": [
       "<div>\n",
       "<style scoped>\n",
       "    .dataframe tbody tr th:only-of-type {\n",
       "        vertical-align: middle;\n",
       "    }\n",
       "\n",
       "    .dataframe tbody tr th {\n",
       "        vertical-align: top;\n",
       "    }\n",
       "\n",
       "    .dataframe thead th {\n",
       "        text-align: right;\n",
       "    }\n",
       "</style>\n",
       "<table border=\"1\" class=\"dataframe\">\n",
       "  <thead>\n",
       "    <tr style=\"text-align: right;\">\n",
       "      <th></th>\n",
       "      <th>restatus</th>\n",
       "      <th>educ1989</th>\n",
       "      <th>educ2003</th>\n",
       "      <th>educflag</th>\n",
       "      <th>monthdth</th>\n",
       "      <th>sex</th>\n",
       "      <th>age</th>\n",
       "      <th>ageflag</th>\n",
       "      <th>ager52</th>\n",
       "      <th>ager27</th>\n",
       "      <th>...</th>\n",
       "      <th>record_20</th>\n",
       "      <th>race</th>\n",
       "      <th>brace</th>\n",
       "      <th>raceimp</th>\n",
       "      <th>racer3</th>\n",
       "      <th>racer5</th>\n",
       "      <th>hispanic</th>\n",
       "      <th>hspanicr</th>\n",
       "      <th>category</th>\n",
       "      <th>description</th>\n",
       "    </tr>\n",
       "  </thead>\n",
       "  <tbody>\n",
       "  </tbody>\n",
       "</table>\n",
       "<p>0 rows × 118 columns</p>\n",
       "</div>"
      ],
      "text/plain": [
       "Empty DataFrame\n",
       "Columns: [restatus, educ1989, educ2003, educflag, monthdth, sex, age, ageflag, ager52, ager27, ager12, ager22, placdth, marstat, weekday, year, injwork, mandeath, methdisp, autopsy, activity, injury, ucod, ucr358, ucr113, ucr130, ucr39, eanum, econdp_1, econds_1, enicon_1, econdp_2, econds_2, enicon_2, econdp_3, econds_3, enicon_3, econdp_4, econds_4, enicon_4, econdp_5, econds_5, enicon_5, econdp_6, econds_6, enicon_6, econdp_7, econds_7, enicon_7, econdp_8, econds_8, enicon_8, econdp_9, econds_9, enicon_9, econdp_10, econds_10, enicon_10, econdp_11, econds_11, enicon_11, econdp_12, econds_12, enicon_12, econdp_13, econds_13, enicon_13, econdp_14, econds_14, enicon_14, econdp_15, econds_15, enicon_15, econdp_16, econds_16, enicon_16, econdp_17, econds_17, enicon_17, econdp_18, econds_18, enicon_18, econdp_19, econds_19, enicon_19, econdp_20, econds_20, enicon_20, ranum, record_1, record_2, record_3, record_4, record_5, record_6, record_7, record_8, record_9, record_10, record_11, ...]\n",
       "Index: []\n",
       "\n",
       "[0 rows x 118 columns]"
      ]
     },
     "execution_count": 18,
     "metadata": {},
     "output_type": "execute_result"
    }
   ],
   "source": [
    "df.loc[df['description'].isna()]"
   ]
  },
  {
   "cell_type": "code",
   "execution_count": 19,
   "metadata": {},
   "outputs": [
    {
     "data": {
      "text/plain": [
       "Other complications of pregnancy                                                                4256\n",
       "Other complications of birth; puerperium affecting management of mother                         3991\n",
       "Hypertension complicating pregnancy; childbirth and the puerperium                               698\n",
       "Diabetes or abnormal glucose tolerance complicating pregnancy; childbirth; or the puerperium     192\n",
       "Hemorrhage during pregnancy; abruptio placenta; placenta previa                                  169\n",
       "Ectopic pregnancy                                                                                137\n",
       "Induced abortion                                                                                  45\n",
       "Polyhydramnios and other problems of amniotic cavity                                              39\n",
       "Spontaneous abortion                                                                              31\n",
       "Fetal distress and abnormal forces of labor                                                       21\n",
       "Normal pregnancy and/or delivery                                                                  13\n",
       "Complications of surgical procedures or medical care                                               7\n",
       "OB-related trauma to perineum and vulva                                                            1\n",
       "Umbilical cord complication                                                                        1\n",
       "Name: description, dtype: int64"
      ]
     },
     "execution_count": 19,
     "metadata": {},
     "output_type": "execute_result"
    }
   ],
   "source": [
    "df['description'].value_counts()"
   ]
  },
  {
   "cell_type": "code",
   "execution_count": 20,
   "metadata": {},
   "outputs": [
    {
     "data": {
      "text/plain": [
       "All other direct obstetric causes                                   3012\n",
       "Other deaths related to pregnancy, childbirth and the puerperium    2442\n",
       "Indirect obstetric deaths                                           2136\n",
       "Other complications predominately related to the puerperium          458\n",
       "Eclampsia and pre-eclampsia                                          442\n",
       "Obstetric embolism                                                   400\n",
       "Hemorrhage of pregnancy and childbirth and placenta previa           280\n",
       "Obstetric death of unspecified cause                                 205\n",
       "Ectopic pregnancy                                                    137\n",
       "Other and unspecified pregnancy with abortive outcome                 41\n",
       "Spontaneous abortion                                                  31\n",
       "Other abortion                                                        10\n",
       "Medical abortion                                                       7\n",
       "Name: ucr358, dtype: int64"
      ]
     },
     "execution_count": 20,
     "metadata": {},
     "output_type": "execute_result"
    }
   ],
   "source": [
    "#Getting recode info from https://www.cdc.gov/nchs/data/datalinkage/underlying_and_multiple_cause_of_death_codes.pdf\n",
    "df['ucr358'].value_counts()\n",
    "df.loc[df['ucr358'] == 341, 'ucr358'] = \"Ectopic pregnancy\"\n",
    "df.loc[df['ucr358'] == 342, 'ucr358'] = \"Spontaneous abortion\"\n",
    "df.loc[df['ucr358'] == 343, 'ucr358'] = \"Medical abortion\"\n",
    "df.loc[df['ucr358'] == 344, 'ucr358'] = \"Other abortion\"\n",
    "df.loc[df['ucr358'] == 345, 'ucr358'] = \"Other and unspecified pregnancy with abortive outcome\"\n",
    "df.loc[df['ucr358'] == 347, 'ucr358'] = \"Eclampsia and pre-eclampsia\"\n",
    "df.loc[df['ucr358'] == 348, 'ucr358'] = \"Hemorrhage of pregnancy and childbirth and placenta previa\"\n",
    "df.loc[df['ucr358'] == 350, 'ucr358'] = \"Obstetric embolism\"\n",
    "df.loc[df['ucr358'] == 351, 'ucr358'] = \"Other complications predominately related to the puerperium\"\n",
    "df.loc[df['ucr358'] == 352, 'ucr358'] = \"All other direct obstetric causes\"\n",
    "df.loc[df['ucr358'] == 353, 'ucr358'] = \"Obstetric death of unspecified cause\"\n",
    "df.loc[df['ucr358'] == 354, 'ucr358'] = \"Other deaths related to pregnancy, childbirth and the puerperium\"\n",
    "df.loc[df['ucr358'] == 355, 'ucr358'] = \"Indirect obstetric deaths\"\n",
    "df['ucr358'].value_counts()"
   ]
  },
  {
   "cell_type": "code",
   "execution_count": 21,
   "metadata": {},
   "outputs": [
    {
     "data": {
      "text/plain": [
       "1     5914\n",
       "2     2231\n",
       "3      822\n",
       "4      361\n",
       "5      151\n",
       "6       64\n",
       "7       31\n",
       "8       18\n",
       "11       3\n",
       "10       3\n",
       "9        3\n",
       "Name: ranum, dtype: int64"
      ]
     },
     "execution_count": 21,
     "metadata": {},
     "output_type": "execute_result"
    }
   ],
   "source": [
    "#\"The record axis codes represent a further processing of the entity axis codes to be consistent with the underlying cause data and more amenable to statistical tabulation and analysis.\"\n",
    "#From https://www.ncbi.nlm.nih.gov/pmc/articles/PMC548504/\n",
    "df['ranum'].value_counts() #Keep up to 3 record axis conditions"
   ]
  },
  {
   "cell_type": "code",
   "execution_count": 22,
   "metadata": {},
   "outputs": [
    {
     "data": {
      "text/plain": [
       "True    9601\n",
       "dtype: int64"
      ]
     },
     "execution_count": 22,
     "metadata": {},
     "output_type": "execute_result"
    }
   ],
   "source": [
    "check = (df['ucod'] == df['record_1'])\n",
    "check.value_counts() #the first record (record_1) is equal to the official cause of death. which means if I want other undelying conditions, I need to keep records 2, 3 and 4"
   ]
  },
  {
   "cell_type": "code",
   "execution_count": 23,
   "metadata": {},
   "outputs": [],
   "source": [
    "icd_codes.rename(columns={\"ucod\": \"record_2\", \"description\": \"record_2_desc\"}, inplace =True)\n",
    "df = pd.merge(df, icd_codes, how='left', on='record_2') "
   ]
  },
  {
   "cell_type": "code",
   "execution_count": 24,
   "metadata": {},
   "outputs": [],
   "source": [
    "icd_codes.rename(columns={\"record_2\": \"record_3\", \"record_2_desc\": \"record_3_desc\"}, inplace =True)\n",
    "df = pd.merge(df, icd_codes, how='left', on='record_3') "
   ]
  },
  {
   "cell_type": "code",
   "execution_count": 25,
   "metadata": {},
   "outputs": [],
   "source": [
    "icd_codes.rename(columns={\"record_3\": \"record_4\", \"record_3_desc\": \"record_4_desc\"}, inplace =True)\n",
    "df = pd.merge(df, icd_codes, how='left', on='record_4') "
   ]
  },
  {
   "cell_type": "code",
   "execution_count": 26,
   "metadata": {},
   "outputs": [
    {
     "data": {
      "image/png": "[encoded data removed]",
      "text/plain": [
       "<Figure size 432x288 with 1 Axes>"
      ]
     },
     "metadata": {
      "needs_background": "light"
     },
     "output_type": "display_data"
    }
   ],
   "source": [
    "ax = df['race'].plot.hist(bins=3, alpha=0.5)"
   ]
  },
  {
   "cell_type": "code",
   "execution_count": 27,
   "metadata": {},
   "outputs": [
    {
     "data": {
      "text/plain": [
       "White                              5922\n",
       "Black                              3110\n",
       "Races other than White or Black     569\n",
       "Name: racer3, dtype: int64"
      ]
     },
     "execution_count": 27,
     "metadata": {},
     "output_type": "execute_result"
    }
   ],
   "source": [
    "df['racer3'].value_counts()\n",
    "df.loc[df['racer3'] == 1, 'racer3'] = \"White\"\n",
    "df.loc[df['racer3'] == 2, 'racer3'] = \"Races other than White or Black\"\n",
    "df.loc[df['racer3'] == 3, 'racer3'] = \"Black\"\n",
    "df['racer3'].value_counts()"
   ]
  },
  {
   "cell_type": "code",
   "execution_count": 28,
   "metadata": {},
   "outputs": [
    {
     "data": {
      "text/plain": [
       "White                        5922\n",
       "Black                        3110\n",
       "Asian or Pacific Islander     410\n",
       "American Indian               159\n",
       "Name: racer5, dtype: int64"
      ]
     },
     "execution_count": 28,
     "metadata": {},
     "output_type": "execute_result"
    }
   ],
   "source": [
    "df['racer5'].value_counts()\n",
    "df.loc[df['racer5'] == 1, 'racer5'] = \"White\"\n",
    "df.loc[df['racer5'] == 2, 'racer5'] = \"Black\"\n",
    "df.loc[df['racer5'] == 3, 'racer5'] = \"American Indian\"\n",
    "df.loc[df['racer5'] == 4, 'racer5'] = \"Asian or Pacific Islander\"\n",
    "df['racer5'].value_counts()"
   ]
  },
  {
   "cell_type": "code",
   "execution_count": 29,
   "metadata": {},
   "outputs": [
    {
     "data": {
      "text/plain": [
       "Non - Hispanic white          4473\n",
       "Non - Hispanic black          3072\n",
       "Hispanic                      1482\n",
       "Non - Hispanic other races     543\n",
       "Hispanic origin unknown         31\n",
       "Name: hspanicr, dtype: int64"
      ]
     },
     "execution_count": 29,
     "metadata": {},
     "output_type": "execute_result"
    }
   ],
   "source": [
    "df['hspanicr'].value_counts()\n",
    "df.loc[df['hspanicr'] == 9, 'hspanicr'] = \"Hispanic origin unknown\"\n",
    "df.loc[df['hspanicr'] == 8, 'hspanicr'] = \"Non - Hispanic other races\"\n",
    "df.loc[df['hspanicr'] == 7, 'hspanicr'] = \"Non - Hispanic black\"\n",
    "df.loc[df['hspanicr'] == 6, 'hspanicr'] = \"Non - Hispanic white\"\n",
    "df.loc[df['hspanicr'] == 5, 'hspanicr'] = \"Hispanic\"\n",
    "df.loc[df['hspanicr'] == 4, 'hspanicr'] = \"Hispanic\"\n",
    "df.loc[df['hspanicr'] == 3, 'hspanicr'] = \"Hispanic\"\n",
    "df.loc[df['hspanicr'] == 2, 'hspanicr'] = \"Hispanic\"\n",
    "df.loc[df['hspanicr'] == 1, 'hspanicr'] = \"Hispanic\"\n",
    "df['hspanicr'].value_counts()\n"
   ]
  },
  {
   "cell_type": "code",
   "execution_count": 30,
   "metadata": {},
   "outputs": [
    {
     "data": {
      "text/html": [
       "<div>\n",
       "<style scoped>\n",
       "    .dataframe tbody tr th:only-of-type {\n",
       "        vertical-align: middle;\n",
       "    }\n",
       "\n",
       "    .dataframe tbody tr th {\n",
       "        vertical-align: top;\n",
       "    }\n",
       "\n",
       "    .dataframe thead th {\n",
       "        text-align: right;\n",
       "    }\n",
       "</style>\n",
       "<table border=\"1\" class=\"dataframe\">\n",
       "  <thead>\n",
       "    <tr style=\"text-align: right;\">\n",
       "      <th></th>\n",
       "      <th>restatus</th>\n",
       "      <th>educ1989</th>\n",
       "      <th>educ2003</th>\n",
       "      <th>educflag</th>\n",
       "      <th>monthdth</th>\n",
       "      <th>sex</th>\n",
       "      <th>ager52</th>\n",
       "      <th>ager27</th>\n",
       "      <th>ager12</th>\n",
       "      <th>placdth</th>\n",
       "      <th>...</th>\n",
       "      <th>record_2</th>\n",
       "      <th>record_3</th>\n",
       "      <th>record_4</th>\n",
       "      <th>racer3</th>\n",
       "      <th>racer5</th>\n",
       "      <th>hspanicr</th>\n",
       "      <th>description</th>\n",
       "      <th>record_2_desc</th>\n",
       "      <th>record_3_desc</th>\n",
       "      <th>record_4_desc</th>\n",
       "    </tr>\n",
       "  </thead>\n",
       "  <tbody>\n",
       "    <tr>\n",
       "      <th>0</th>\n",
       "      <td>Residents</td>\n",
       "      <td>4 years of high school</td>\n",
       "      <td>NaN</td>\n",
       "      <td>0</td>\n",
       "      <td>4</td>\n",
       "      <td>F</td>\n",
       "      <td>20 - 24 years</td>\n",
       "      <td>20 - 24 years</td>\n",
       "      <td>15 - 24 years</td>\n",
       "      <td>Decedent’s home</td>\n",
       "      <td>...</td>\n",
       "      <td>NaN</td>\n",
       "      <td>NaN</td>\n",
       "      <td>NaN</td>\n",
       "      <td>Races other than White or Black</td>\n",
       "      <td>American Indian</td>\n",
       "      <td>Non - Hispanic other races</td>\n",
       "      <td>Hypertension complicating pregnancy; childbirt...</td>\n",
       "      <td>NaN</td>\n",
       "      <td>NaN</td>\n",
       "      <td>NaN</td>\n",
       "    </tr>\n",
       "    <tr>\n",
       "      <th>1</th>\n",
       "      <td>Intrastate Nonresidents</td>\n",
       "      <td>4 years of high school</td>\n",
       "      <td>NaN</td>\n",
       "      <td>0</td>\n",
       "      <td>11</td>\n",
       "      <td>F</td>\n",
       "      <td>30 - 34 years</td>\n",
       "      <td>30 - 34 years</td>\n",
       "      <td>25 - 34 years</td>\n",
       "      <td>Hospital, Clinic or Medical Center - Outpatien...</td>\n",
       "      <td>...</td>\n",
       "      <td>NaN</td>\n",
       "      <td>NaN</td>\n",
       "      <td>NaN</td>\n",
       "      <td>Races other than White or Black</td>\n",
       "      <td>American Indian</td>\n",
       "      <td>Non - Hispanic other races</td>\n",
       "      <td>Other complications of pregnancy</td>\n",
       "      <td>NaN</td>\n",
       "      <td>NaN</td>\n",
       "      <td>NaN</td>\n",
       "    </tr>\n",
       "    <tr>\n",
       "      <th>2</th>\n",
       "      <td>Residents</td>\n",
       "      <td>2 years of high school</td>\n",
       "      <td>NaN</td>\n",
       "      <td>0</td>\n",
       "      <td>1</td>\n",
       "      <td>F</td>\n",
       "      <td>35 - 39 years</td>\n",
       "      <td>35 - 39 years</td>\n",
       "      <td>35 - 44 years</td>\n",
       "      <td>Hospital, clinic or Medical Center - Inpatient</td>\n",
       "      <td>...</td>\n",
       "      <td>O16</td>\n",
       "      <td>O309</td>\n",
       "      <td>NaN</td>\n",
       "      <td>Black</td>\n",
       "      <td>Black</td>\n",
       "      <td>Non - Hispanic black</td>\n",
       "      <td>Other complications of pregnancy</td>\n",
       "      <td>Hypertension complicating pregnancy; childbirt...</td>\n",
       "      <td>Normal pregnancy and/or delivery</td>\n",
       "      <td>NaN</td>\n",
       "    </tr>\n",
       "    <tr>\n",
       "      <th>3</th>\n",
       "      <td>Residents</td>\n",
       "      <td>1 year of high school</td>\n",
       "      <td>NaN</td>\n",
       "      <td>0</td>\n",
       "      <td>2</td>\n",
       "      <td>F</td>\n",
       "      <td>30 - 34 years</td>\n",
       "      <td>30 - 34 years</td>\n",
       "      <td>25 - 34 years</td>\n",
       "      <td>Hospital, clinic or Medical Center - Inpatient</td>\n",
       "      <td>...</td>\n",
       "      <td>O16</td>\n",
       "      <td>NaN</td>\n",
       "      <td>NaN</td>\n",
       "      <td>Black</td>\n",
       "      <td>Black</td>\n",
       "      <td>Non - Hispanic black</td>\n",
       "      <td>Hypertension complicating pregnancy; childbirt...</td>\n",
       "      <td>Hypertension complicating pregnancy; childbirt...</td>\n",
       "      <td>NaN</td>\n",
       "      <td>NaN</td>\n",
       "    </tr>\n",
       "    <tr>\n",
       "      <th>4</th>\n",
       "      <td>Intrastate Nonresidents</td>\n",
       "      <td>3 years of high school</td>\n",
       "      <td>NaN</td>\n",
       "      <td>0</td>\n",
       "      <td>3</td>\n",
       "      <td>F</td>\n",
       "      <td>25 - 29 years</td>\n",
       "      <td>25 - 29 years</td>\n",
       "      <td>25 - 34 years</td>\n",
       "      <td>Hospital, clinic or Medical Center - Inpatient</td>\n",
       "      <td>...</td>\n",
       "      <td>D65</td>\n",
       "      <td>R578</td>\n",
       "      <td>R58</td>\n",
       "      <td>Black</td>\n",
       "      <td>Black</td>\n",
       "      <td>Non - Hispanic black</td>\n",
       "      <td>Ectopic pregnancy</td>\n",
       "      <td>Coagulation and hemorrhagic disorders</td>\n",
       "      <td>Shock</td>\n",
       "      <td>Other circulatory disease</td>\n",
       "    </tr>\n",
       "    <tr>\n",
       "      <th>...</th>\n",
       "      <td>...</td>\n",
       "      <td>...</td>\n",
       "      <td>...</td>\n",
       "      <td>...</td>\n",
       "      <td>...</td>\n",
       "      <td>...</td>\n",
       "      <td>...</td>\n",
       "      <td>...</td>\n",
       "      <td>...</td>\n",
       "      <td>...</td>\n",
       "      <td>...</td>\n",
       "      <td>...</td>\n",
       "      <td>...</td>\n",
       "      <td>...</td>\n",
       "      <td>...</td>\n",
       "      <td>...</td>\n",
       "      <td>...</td>\n",
       "      <td>...</td>\n",
       "      <td>...</td>\n",
       "      <td>...</td>\n",
       "      <td>...</td>\n",
       "    </tr>\n",
       "    <tr>\n",
       "      <th>9596</th>\n",
       "      <td>Residents</td>\n",
       "      <td>NaN</td>\n",
       "      <td>9 - 12th grade, no diploma</td>\n",
       "      <td>1</td>\n",
       "      <td>10</td>\n",
       "      <td>F</td>\n",
       "      <td>20 - 24 years</td>\n",
       "      <td>20 - 24 years</td>\n",
       "      <td>15 - 24 years</td>\n",
       "      <td>Decedent’s home</td>\n",
       "      <td>...</td>\n",
       "      <td>F199</td>\n",
       "      <td>J850</td>\n",
       "      <td>NaN</td>\n",
       "      <td>Black</td>\n",
       "      <td>Black</td>\n",
       "      <td>Non - Hispanic black</td>\n",
       "      <td>Other complications of birth; puerperium affec...</td>\n",
       "      <td>Substance-related mental disorders</td>\n",
       "      <td>Pneumonia (except that caused by tuberculosis ...</td>\n",
       "      <td>NaN</td>\n",
       "    </tr>\n",
       "    <tr>\n",
       "      <th>9597</th>\n",
       "      <td>Residents</td>\n",
       "      <td>NaN</td>\n",
       "      <td>Unknown</td>\n",
       "      <td>1</td>\n",
       "      <td>10</td>\n",
       "      <td>F</td>\n",
       "      <td>30 - 34 years</td>\n",
       "      <td>30 - 34 years</td>\n",
       "      <td>25 - 34 years</td>\n",
       "      <td>Hospital, Clinic or Medical Center - Outpatien...</td>\n",
       "      <td>...</td>\n",
       "      <td>NaN</td>\n",
       "      <td>NaN</td>\n",
       "      <td>NaN</td>\n",
       "      <td>Black</td>\n",
       "      <td>Black</td>\n",
       "      <td>Non - Hispanic black</td>\n",
       "      <td>Other complications of birth; puerperium affec...</td>\n",
       "      <td>NaN</td>\n",
       "      <td>NaN</td>\n",
       "      <td>NaN</td>\n",
       "    </tr>\n",
       "    <tr>\n",
       "      <th>9598</th>\n",
       "      <td>Residents</td>\n",
       "      <td>NaN</td>\n",
       "      <td>9 - 12th grade, no diploma</td>\n",
       "      <td>1</td>\n",
       "      <td>10</td>\n",
       "      <td>F</td>\n",
       "      <td>35 - 39 years</td>\n",
       "      <td>35 - 39 years</td>\n",
       "      <td>35 - 44 years</td>\n",
       "      <td>Hospital, Clinic or Medical Center - Outpatien...</td>\n",
       "      <td>...</td>\n",
       "      <td>J459</td>\n",
       "      <td>NaN</td>\n",
       "      <td>NaN</td>\n",
       "      <td>Black</td>\n",
       "      <td>Black</td>\n",
       "      <td>Non - Hispanic black</td>\n",
       "      <td>Other complications of pregnancy</td>\n",
       "      <td>Asthma</td>\n",
       "      <td>NaN</td>\n",
       "      <td>NaN</td>\n",
       "    </tr>\n",
       "    <tr>\n",
       "      <th>9599</th>\n",
       "      <td>Intrastate Nonresidents</td>\n",
       "      <td>NaN</td>\n",
       "      <td>high school graduate or GED completed</td>\n",
       "      <td>1</td>\n",
       "      <td>12</td>\n",
       "      <td>F</td>\n",
       "      <td>30 - 34 years</td>\n",
       "      <td>30 - 34 years</td>\n",
       "      <td>25 - 34 years</td>\n",
       "      <td>Hospital, clinic or Medical Center - Inpatient</td>\n",
       "      <td>...</td>\n",
       "      <td>D619</td>\n",
       "      <td>I469</td>\n",
       "      <td>NaN</td>\n",
       "      <td>Black</td>\n",
       "      <td>Black</td>\n",
       "      <td>Non - Hispanic black</td>\n",
       "      <td>Other complications of pregnancy</td>\n",
       "      <td>Deficiency and other anemia</td>\n",
       "      <td>Cardiac arrest and ventricular fibrillation</td>\n",
       "      <td>NaN</td>\n",
       "    </tr>\n",
       "    <tr>\n",
       "      <th>9600</th>\n",
       "      <td>Residents</td>\n",
       "      <td>NaN</td>\n",
       "      <td>high school graduate or GED completed</td>\n",
       "      <td>1</td>\n",
       "      <td>12</td>\n",
       "      <td>F</td>\n",
       "      <td>25 - 29 years</td>\n",
       "      <td>25 - 29 years</td>\n",
       "      <td>25 - 34 years</td>\n",
       "      <td>Hospital, clinic or Medical Center - Inpatient</td>\n",
       "      <td>...</td>\n",
       "      <td>A419</td>\n",
       "      <td>J189</td>\n",
       "      <td>J80</td>\n",
       "      <td>Black</td>\n",
       "      <td>Black</td>\n",
       "      <td>Hispanic</td>\n",
       "      <td>Other complications of birth; puerperium affec...</td>\n",
       "      <td>Septicemia (except in labor)</td>\n",
       "      <td>Pneumonia (except that caused by tuberculosis ...</td>\n",
       "      <td>Respiratory failure; insufficiency; arrest (ad...</td>\n",
       "    </tr>\n",
       "  </tbody>\n",
       "</table>\n",
       "<p>9601 rows × 28 columns</p>\n",
       "</div>"
      ],
      "text/plain": [
       "                     restatus                educ1989  \\\n",
       "0                   Residents  4 years of high school   \n",
       "1     Intrastate Nonresidents  4 years of high school   \n",
       "2                   Residents  2 years of high school   \n",
       "3                   Residents   1 year of high school   \n",
       "4     Intrastate Nonresidents  3 years of high school   \n",
       "...                       ...                     ...   \n",
       "9596                Residents                     NaN   \n",
       "9597                Residents                     NaN   \n",
       "9598                Residents                     NaN   \n",
       "9599  Intrastate Nonresidents                     NaN   \n",
       "9600                Residents                     NaN   \n",
       "\n",
       "                                   educ2003  educflag  monthdth sex  \\\n",
       "0                                       NaN         0         4   F   \n",
       "1                                       NaN         0        11   F   \n",
       "2                                       NaN         0         1   F   \n",
       "3                                       NaN         0         2   F   \n",
       "4                                       NaN         0         3   F   \n",
       "...                                     ...       ...       ...  ..   \n",
       "9596             9 - 12th grade, no diploma         1        10   F   \n",
       "9597                                Unknown         1        10   F   \n",
       "9598             9 - 12th grade, no diploma         1        10   F   \n",
       "9599  high school graduate or GED completed         1        12   F   \n",
       "9600  high school graduate or GED completed         1        12   F   \n",
       "\n",
       "             ager52         ager27         ager12  \\\n",
       "0     20 - 24 years  20 - 24 years  15 - 24 years   \n",
       "1     30 - 34 years  30 - 34 years  25 - 34 years   \n",
       "2     35 - 39 years  35 - 39 years  35 - 44 years   \n",
       "3     30 - 34 years  30 - 34 years  25 - 34 years   \n",
       "4     25 - 29 years  25 - 29 years  25 - 34 years   \n",
       "...             ...            ...            ...   \n",
       "9596  20 - 24 years  20 - 24 years  15 - 24 years   \n",
       "9597  30 - 34 years  30 - 34 years  25 - 34 years   \n",
       "9598  35 - 39 years  35 - 39 years  35 - 44 years   \n",
       "9599  30 - 34 years  30 - 34 years  25 - 34 years   \n",
       "9600  25 - 29 years  25 - 29 years  25 - 34 years   \n",
       "\n",
       "                                                placdth  ... record_2  \\\n",
       "0                                       Decedent’s home  ...      NaN   \n",
       "1     Hospital, Clinic or Medical Center - Outpatien...  ...      NaN   \n",
       "2        Hospital, clinic or Medical Center - Inpatient  ...      O16   \n",
       "3        Hospital, clinic or Medical Center - Inpatient  ...      O16   \n",
       "4        Hospital, clinic or Medical Center - Inpatient  ...      D65   \n",
       "...                                                 ...  ...      ...   \n",
       "9596                                    Decedent’s home  ...     F199   \n",
       "9597  Hospital, Clinic or Medical Center - Outpatien...  ...      NaN   \n",
       "9598  Hospital, Clinic or Medical Center - Outpatien...  ...     J459   \n",
       "9599     Hospital, clinic or Medical Center - Inpatient  ...     D619   \n",
       "9600     Hospital, clinic or Medical Center - Inpatient  ...     A419   \n",
       "\n",
       "      record_3  record_4                           racer3           racer5  \\\n",
       "0          NaN       NaN  Races other than White or Black  American Indian   \n",
       "1          NaN       NaN  Races other than White or Black  American Indian   \n",
       "2         O309       NaN                            Black            Black   \n",
       "3          NaN       NaN                            Black            Black   \n",
       "4         R578       R58                            Black            Black   \n",
       "...        ...       ...                              ...              ...   \n",
       "9596      J850       NaN                            Black            Black   \n",
       "9597       NaN       NaN                            Black            Black   \n",
       "9598       NaN       NaN                            Black            Black   \n",
       "9599      I469       NaN                            Black            Black   \n",
       "9600      J189       J80                            Black            Black   \n",
       "\n",
       "                        hspanicr  \\\n",
       "0     Non - Hispanic other races   \n",
       "1     Non - Hispanic other races   \n",
       "2           Non - Hispanic black   \n",
       "3           Non - Hispanic black   \n",
       "4           Non - Hispanic black   \n",
       "...                          ...   \n",
       "9596        Non - Hispanic black   \n",
       "9597        Non - Hispanic black   \n",
       "9598        Non - Hispanic black   \n",
       "9599        Non - Hispanic black   \n",
       "9600                    Hispanic   \n",
       "\n",
       "                                            description  \\\n",
       "0     Hypertension complicating pregnancy; childbirt...   \n",
       "1                      Other complications of pregnancy   \n",
       "2                      Other complications of pregnancy   \n",
       "3     Hypertension complicating pregnancy; childbirt...   \n",
       "4                                     Ectopic pregnancy   \n",
       "...                                                 ...   \n",
       "9596  Other complications of birth; puerperium affec...   \n",
       "9597  Other complications of birth; puerperium affec...   \n",
       "9598                   Other complications of pregnancy   \n",
       "9599                   Other complications of pregnancy   \n",
       "9600  Other complications of birth; puerperium affec...   \n",
       "\n",
       "                                          record_2_desc  \\\n",
       "0                                                   NaN   \n",
       "1                                                   NaN   \n",
       "2     Hypertension complicating pregnancy; childbirt...   \n",
       "3     Hypertension complicating pregnancy; childbirt...   \n",
       "4                 Coagulation and hemorrhagic disorders   \n",
       "...                                                 ...   \n",
       "9596                 Substance-related mental disorders   \n",
       "9597                                                NaN   \n",
       "9598                                             Asthma   \n",
       "9599                        Deficiency and other anemia   \n",
       "9600                       Septicemia (except in labor)   \n",
       "\n",
       "                                          record_3_desc  \\\n",
       "0                                                   NaN   \n",
       "1                                                   NaN   \n",
       "2                      Normal pregnancy and/or delivery   \n",
       "3                                                   NaN   \n",
       "4                                                 Shock   \n",
       "...                                                 ...   \n",
       "9596  Pneumonia (except that caused by tuberculosis ...   \n",
       "9597                                                NaN   \n",
       "9598                                                NaN   \n",
       "9599        Cardiac arrest and ventricular fibrillation   \n",
       "9600  Pneumonia (except that caused by tuberculosis ...   \n",
       "\n",
       "                                          record_4_desc  \n",
       "0                                                   NaN  \n",
       "1                                                   NaN  \n",
       "2                                                   NaN  \n",
       "3                                                   NaN  \n",
       "4                             Other circulatory disease  \n",
       "...                                                 ...  \n",
       "9596                                                NaN  \n",
       "9597                                                NaN  \n",
       "9598                                                NaN  \n",
       "9599                                                NaN  \n",
       "9600  Respiratory failure; insufficiency; arrest (ad...  \n",
       "\n",
       "[9601 rows x 28 columns]"
      ]
     },
     "execution_count": 30,
     "metadata": {},
     "output_type": "execute_result"
    }
   ],
   "source": [
    "df = df[['restatus', 'educ1989', 'educ2003', 'educflag', 'monthdth', 'sex', 'ager52', 'ager27', 'ager12', 'placdth', 'marstat', 'weekday', 'year', 'injwork', 'mandeath', 'ucod', 'ucr358', 'ranum', 'record_2', 'record_3', 'record_4', 'racer3', 'racer5', 'hspanicr', 'description', 'record_2_desc', 'record_3_desc', 'record_4_desc']].copy()\n",
    "df"
   ]
  },
  {
   "cell_type": "code",
   "execution_count": 31,
   "metadata": {},
   "outputs": [],
   "source": [
    "df.to_csv (r'C:\\Users\\Marina\\Documents\\DS4A\\Notebooks\\Project\\data\\dataframe.csv', index = False, header=True)"
   ]
  },
  {
   "cell_type": "markdown",
   "metadata": {},
   "source": [
    "# Inspect/EDA"
   ]
  },
  {
   "cell_type": "code",
   "execution_count": 32,
   "metadata": {},
   "outputs": [],
   "source": [
    "df1 = df.copy()"
   ]
  },
  {
   "cell_type": "code",
   "execution_count": 33,
   "metadata": {},
   "outputs": [
    {
     "data": {
      "text/plain": [
       "2016    1240\n",
       "2017    1210\n",
       "2015    1144\n",
       "2013    1142\n",
       "2014    1131\n",
       "2012     993\n",
       "2018     976\n",
       "2011     936\n",
       "2010     829\n",
       "Name: year, dtype: int64"
      ]
     },
     "execution_count": 33,
     "metadata": {},
     "output_type": "execute_result"
    }
   ],
   "source": [
    "df1['year'] = df1['year'].astype(int)\n",
    "df1['year'].value_counts()"
   ]
  },
  {
   "cell_type": "code",
   "execution_count": 45,
   "metadata": {},
   "outputs": [
    {
     "data": {
      "image/png": "[encoded data removed]",
      "text/plain": [
       "<Figure size 432x288 with 1 Axes>"
      ]
     },
     "metadata": {
      "needs_background": "light"
     },
     "output_type": "display_data"
    }
   ],
   "source": [
    "years = df1['year'].value_counts()\n",
    "years = years.to_frame()\n",
    "years = years.reset_index().sort_values(by=['index'])\n",
    "ax = sns.barplot(x=\"index\", y=\"year\", data=years).set_title(\"Number of Deaths by Year\")"
   ]
  },
  {
   "cell_type": "code",
   "execution_count": 54,
   "metadata": {
    "scrolled": true
   },
   "outputs": [
    {
     "data": {
      "image/png": "[encoded data removed]",
      "text/plain": [
       "<Figure size 1152x432 with 1 Axes>"
      ]
     },
     "metadata": {
      "needs_background": "light"
     },
     "output_type": "display_data"
    }
   ],
   "source": [
    "df1\n",
    "age = df1[['ager12', 'year']]\n",
    "ages = age.groupby(by=[\"ager12\", \"year\"]).size().reset_index()\n",
    "ages.columns = ['Age Group', 'Year', 'Count']\n",
    "plt.figure(figsize=(16, 6))\n",
    "ax = sns.lineplot(data=ages, x=\"Year\", y=\"Count\", hue=\"Age Group\").set_title(\"Deaths by Age Group Across Time\")"
   ]
  },
  {
   "cell_type": "code",
   "execution_count": 62,
   "metadata": {},
   "outputs": [
    {
     "data": {
      "image/png": "[encoded data removed]",
      "text/plain": [
       "<Figure size 1152x432 with 1 Axes>"
      ]
     },
     "metadata": {
      "needs_background": "light"
     },
     "output_type": "display_data"
    }
   ],
   "source": [
    "#The 45-54 age group has seen a sharp decline in maternal deaths\n",
    "age_45_54 = ages[ages[\"Age Group\"]== \"45 - 54 years\"]\n",
    "age_45_54\n",
    "plt.figure(figsize=(16, 6))\n",
    "ax = sns.lineplot(data=age_45_54, x=\"Year\", y=\"Count\").set_title(\"Deaths have sharply declined in the 45-54 Age Group\")"
   ]
  },
  {
   "cell_type": "code",
   "execution_count": 63,
   "metadata": {},
   "outputs": [
    {
     "data": {
      "image/png": "[encoded data removed]",
      "text/plain": [
       "<Figure size 1152x432 with 1 Axes>"
      ]
     },
     "metadata": {
      "needs_background": "light"
     },
     "output_type": "display_data"
    }
   ],
   "source": [
    "marstat = df1[['marstat', 'year']]\n",
    "marstat = marstat.groupby(by=[\"marstat\", \"year\"]).size().reset_index()\n",
    "marstat.columns = ['Marital Status', 'Year', 'Count']\n",
    "plt.figure(figsize=(16, 6))\n",
    "ax = sns.lineplot(data=marstat, x=\"Year\", y=\"Count\", hue=\"Marital Status\").set_title(\"Deaths by Marital Status Across Time\")"
   ]
  },
  {
   "cell_type": "code",
   "execution_count": 66,
   "metadata": {},
   "outputs": [
    {
     "data": {
      "image/png": "[encoded data removed]",
      "text/plain": [
       "<Figure size 1152x432 with 1 Axes>"
      ]
     },
     "metadata": {
      "needs_background": "light"
     },
     "output_type": "display_data"
    }
   ],
   "source": [
    "race = df1[['racer5', 'year']]\n",
    "race = race.groupby(by=[\"racer5\", \"year\"]).size().reset_index()\n",
    "race.columns = ['Race', 'Year', 'Count']\n",
    "plt.figure(figsize=(16, 6))\n",
    "ax = sns.lineplot(data=race, x=\"Year\", y=\"Count\", hue=\"Race\").set_title(\"Deaths by Race Across Time\")"
   ]
  },
  {
   "cell_type": "code",
   "execution_count": 70,
   "metadata": {},
   "outputs": [
    {
     "data": {
      "text/html": [
       "<div>\n",
       "<style scoped>\n",
       "    .dataframe tbody tr th:only-of-type {\n",
       "        vertical-align: middle;\n",
       "    }\n",
       "\n",
       "    .dataframe tbody tr th {\n",
       "        vertical-align: top;\n",
       "    }\n",
       "\n",
       "    .dataframe thead th {\n",
       "        text-align: right;\n",
       "    }\n",
       "</style>\n",
       "<table border=\"1\" class=\"dataframe\">\n",
       "  <thead>\n",
       "    <tr style=\"text-align: right;\">\n",
       "      <th></th>\n",
       "      <th>Cause of Death</th>\n",
       "      <th>Year</th>\n",
       "      <th>Count</th>\n",
       "    </tr>\n",
       "  </thead>\n",
       "  <tbody>\n",
       "    <tr>\n",
       "      <th>0</th>\n",
       "      <td>All other direct obstetric causes</td>\n",
       "      <td>2010</td>\n",
       "      <td>228</td>\n",
       "    </tr>\n",
       "    <tr>\n",
       "      <th>1</th>\n",
       "      <td>All other direct obstetric causes</td>\n",
       "      <td>2011</td>\n",
       "      <td>281</td>\n",
       "    </tr>\n",
       "    <tr>\n",
       "      <th>2</th>\n",
       "      <td>All other direct obstetric causes</td>\n",
       "      <td>2012</td>\n",
       "      <td>313</td>\n",
       "    </tr>\n",
       "    <tr>\n",
       "      <th>3</th>\n",
       "      <td>All other direct obstetric causes</td>\n",
       "      <td>2013</td>\n",
       "      <td>337</td>\n",
       "    </tr>\n",
       "    <tr>\n",
       "      <th>4</th>\n",
       "      <td>All other direct obstetric causes</td>\n",
       "      <td>2014</td>\n",
       "      <td>360</td>\n",
       "    </tr>\n",
       "    <tr>\n",
       "      <th>...</th>\n",
       "      <td>...</td>\n",
       "      <td>...</td>\n",
       "      <td>...</td>\n",
       "    </tr>\n",
       "    <tr>\n",
       "      <th>101</th>\n",
       "      <td>Spontaneous abortion</td>\n",
       "      <td>2014</td>\n",
       "      <td>6</td>\n",
       "    </tr>\n",
       "    <tr>\n",
       "      <th>102</th>\n",
       "      <td>Spontaneous abortion</td>\n",
       "      <td>2015</td>\n",
       "      <td>5</td>\n",
       "    </tr>\n",
       "    <tr>\n",
       "      <th>103</th>\n",
       "      <td>Spontaneous abortion</td>\n",
       "      <td>2016</td>\n",
       "      <td>2</td>\n",
       "    </tr>\n",
       "    <tr>\n",
       "      <th>104</th>\n",
       "      <td>Spontaneous abortion</td>\n",
       "      <td>2017</td>\n",
       "      <td>4</td>\n",
       "    </tr>\n",
       "    <tr>\n",
       "      <th>105</th>\n",
       "      <td>Spontaneous abortion</td>\n",
       "      <td>2018</td>\n",
       "      <td>2</td>\n",
       "    </tr>\n",
       "  </tbody>\n",
       "</table>\n",
       "<p>106 rows × 3 columns</p>\n",
       "</div>"
      ],
      "text/plain": [
       "                        Cause of Death  Year  Count\n",
       "0    All other direct obstetric causes  2010    228\n",
       "1    All other direct obstetric causes  2011    281\n",
       "2    All other direct obstetric causes  2012    313\n",
       "3    All other direct obstetric causes  2013    337\n",
       "4    All other direct obstetric causes  2014    360\n",
       "..                                 ...   ...    ...\n",
       "101               Spontaneous abortion  2014      6\n",
       "102               Spontaneous abortion  2015      5\n",
       "103               Spontaneous abortion  2016      2\n",
       "104               Spontaneous abortion  2017      4\n",
       "105               Spontaneous abortion  2018      2\n",
       "\n",
       "[106 rows x 3 columns]"
      ]
     },
     "execution_count": 70,
     "metadata": {},
     "output_type": "execute_result"
    }
   ],
   "source": [
    "ucr = df1[['ucr358', 'year']]\n",
    "ucr = ucr.groupby(by=[\"ucr358\", \"year\"]).size().reset_index()\n",
    "ucr.columns = ['Cause of Death', 'Year', 'Count']\n",
    "ucr"
   ]
  },
  {
   "cell_type": "code",
   "execution_count": 80,
   "metadata": {},
   "outputs": [
    {
     "data": {
      "text/html": [
       "<div>\n",
       "<style scoped>\n",
       "    .dataframe tbody tr th:only-of-type {\n",
       "        vertical-align: middle;\n",
       "    }\n",
       "\n",
       "    .dataframe tbody tr th {\n",
       "        vertical-align: top;\n",
       "    }\n",
       "\n",
       "    .dataframe thead th {\n",
       "        text-align: right;\n",
       "    }\n",
       "</style>\n",
       "<table border=\"1\" class=\"dataframe\">\n",
       "  <thead>\n",
       "    <tr style=\"text-align: right;\">\n",
       "      <th></th>\n",
       "      <th>Cause of Death</th>\n",
       "      <th>Year</th>\n",
       "      <th>Count</th>\n",
       "    </tr>\n",
       "  </thead>\n",
       "  <tbody>\n",
       "    <tr>\n",
       "      <th>0</th>\n",
       "      <td>All other direct obstetric causes</td>\n",
       "      <td>2010</td>\n",
       "      <td>228</td>\n",
       "    </tr>\n",
       "    <tr>\n",
       "      <th>1</th>\n",
       "      <td>All other direct obstetric causes</td>\n",
       "      <td>2011</td>\n",
       "      <td>281</td>\n",
       "    </tr>\n",
       "    <tr>\n",
       "      <th>2</th>\n",
       "      <td>All other direct obstetric causes</td>\n",
       "      <td>2012</td>\n",
       "      <td>313</td>\n",
       "    </tr>\n",
       "    <tr>\n",
       "      <th>3</th>\n",
       "      <td>All other direct obstetric causes</td>\n",
       "      <td>2013</td>\n",
       "      <td>337</td>\n",
       "    </tr>\n",
       "    <tr>\n",
       "      <th>4</th>\n",
       "      <td>All other direct obstetric causes</td>\n",
       "      <td>2014</td>\n",
       "      <td>360</td>\n",
       "    </tr>\n",
       "    <tr>\n",
       "      <th>...</th>\n",
       "      <td>...</td>\n",
       "      <td>...</td>\n",
       "      <td>...</td>\n",
       "    </tr>\n",
       "    <tr>\n",
       "      <th>101</th>\n",
       "      <td>Spontaneous abortion</td>\n",
       "      <td>2014</td>\n",
       "      <td>6</td>\n",
       "    </tr>\n",
       "    <tr>\n",
       "      <th>102</th>\n",
       "      <td>Spontaneous abortion</td>\n",
       "      <td>2015</td>\n",
       "      <td>5</td>\n",
       "    </tr>\n",
       "    <tr>\n",
       "      <th>103</th>\n",
       "      <td>Spontaneous abortion</td>\n",
       "      <td>2016</td>\n",
       "      <td>2</td>\n",
       "    </tr>\n",
       "    <tr>\n",
       "      <th>104</th>\n",
       "      <td>Spontaneous abortion</td>\n",
       "      <td>2017</td>\n",
       "      <td>4</td>\n",
       "    </tr>\n",
       "    <tr>\n",
       "      <th>105</th>\n",
       "      <td>Spontaneous abortion</td>\n",
       "      <td>2018</td>\n",
       "      <td>2</td>\n",
       "    </tr>\n",
       "  </tbody>\n",
       "</table>\n",
       "<p>106 rows × 3 columns</p>\n",
       "</div>"
      ],
      "text/plain": [
       "                        Cause of Death  Year  Count\n",
       "0    All other direct obstetric causes  2010    228\n",
       "1    All other direct obstetric causes  2011    281\n",
       "2    All other direct obstetric causes  2012    313\n",
       "3    All other direct obstetric causes  2013    337\n",
       "4    All other direct obstetric causes  2014    360\n",
       "..                                 ...   ...    ...\n",
       "101               Spontaneous abortion  2014      6\n",
       "102               Spontaneous abortion  2015      5\n",
       "103               Spontaneous abortion  2016      2\n",
       "104               Spontaneous abortion  2017      4\n",
       "105               Spontaneous abortion  2018      2\n",
       "\n",
       "[106 rows x 3 columns]"
      ]
     },
     "execution_count": 80,
     "metadata": {},
     "output_type": "execute_result"
    }
   ],
   "source": [
    "ucr"
   ]
  },
  {
   "cell_type": "code",
   "execution_count": 83,
   "metadata": {},
   "outputs": [
    {
     "data": {
      "image/png": "[encoded data removed]",
      "text/plain": [
       "<Figure size 1800x864 with 1 Axes>"
      ]
     },
     "metadata": {
      "needs_background": "light"
     },
     "output_type": "display_data"
    }
   ],
   "source": [
    "plt.figure(figsize=(25, 12))\n",
    "ax = sns.lineplot(data=ucr, x=\"Year\", y=\"Count\", hue=\"Cause of Death\").set_title(\"Leading Causes Across Time\")"
   ]
  },
  {
   "cell_type": "code",
   "execution_count": null,
   "metadata": {},
   "outputs": [],
   "source": [
    "#Indirect obstetric deaths have fallen sharply, while the first and second spots have continuously been held by\n",
    "# all other direct obstetric causes, and 'other' deaths"
   ]
  }
 ],
 "metadata": {
  "kernelspec": {
   "display_name": "Python 3",
   "language": "python",
   "name": "python3"
  },
  "language_info": {
   "codemirror_mode": {
    "name": "ipython",
    "version": 3
   },
   "file_extension": ".py",
   "mimetype": "text/x-python",
   "name": "python",
   "nbconvert_exporter": "python",
   "pygments_lexer": "ipython3",
   "version": "3.8.3"
  }
 },
 "nbformat": 4,
 "nbformat_minor": 4
}
